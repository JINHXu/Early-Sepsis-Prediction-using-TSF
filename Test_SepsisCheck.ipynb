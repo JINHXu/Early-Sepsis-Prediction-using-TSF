{
 "cells": [
  {
   "cell_type": "code",
   "execution_count": 13,
   "metadata": {},
   "outputs": [],
   "source": [
    "import SepsisCheck as sc"
   ]
  },
  {
   "cell_type": "markdown",
   "metadata": {},
   "source": [
    "# Testing the sepsis Check:\n",
    "\n",
    "Requirements for t_sofa:\n",
    "\n",
    "1. Sofa increase of 2 within 24 hours\n",
    "\n",
    "Requirements for a suspicion: \n",
    "  \n",
    "1. IV-antibiotics for atleast 72 consecutive hours and blood cultures taken\n",
    "\n",
    "2. If IV-antibiotics administered first, blood cultures must have been taken within 24 hours\n",
    "\n",
    "3. If blood cultures taken first, IV-antibiotics must have been ordered within 72 hours\n",
    "\n",
    "4. Time of Suspicion T_sus: Earlier timestamp of either IV-antibiotics or blood cultures under fullfillment of the stated requirements.\n",
    "\n",
    "Requirements for Sepsis:\n",
    "\n",
    "1. As long as t_sofa occured no more than 24 hours before or 12 hours after t_suspicion, patient is septic."
   ]
  },
  {
   "attachments": {},
   "cell_type": "markdown",
   "metadata": {},
   "source": [
    "### Testing 'get_t_sofa(hourly list sofa scores)':\n",
    "    1. 1. +2 increase in the 24th hour -> 23 (0-indexed)\n",
    "    2. +2 increase in the 36th hour (and within 24 hrs) -> 35 0-indexed\n",
    "    3. +2 increase, but not within 24 hrs -> False, no Sepsis\n",
    "    4. no increase at all -> False, no Sepsis"
   ]
  },
  {
   "cell_type": "code",
   "execution_count": 14,
   "metadata": {},
   "outputs": [
    {
     "name": "stdout",
     "output_type": "stream",
     "text": [
      "1. +2 increase in the 24th hour -> 23 (0-indexed):  23 \n",
      "2. +2 increase in the 36th hour (and within 24 hrs) -> 35 0-indexed:  35 \n",
      "3. +2 increase, but not within 24 hrs -> False, no Sepsis:  False \n",
      "4. no increase at all -> False, no Sepsis:  False\n"
     ]
    }
   ],
   "source": [
    "# 1. +2 increase in the 24th hour -> 23 (0-indexed)\n",
    "sofa1 = [2,2,2,2,2,2,2,2,2,2,2,2,3,3,3,3,3,3,3,3,3,3,3,4]\n",
    "# 2. +2 increase in the 36th hour (and within 24 hrs) -> 35 0-indexed\n",
    "sofa2 = [2,2,2,2,2,2,2,2,2,2,2,2,2,2,2,2,2,2,2,2,2,2,2,2,3,3,3,3,3,3,3,3,3,3,3,4]\n",
    "# 3. +2 increase, but not within 24 hrs -> False, no Sepsis\n",
    "sofa3 = [2,2,2,2,3,3,3,3,3,3,3,3,3,3,3,3,3,3,3,3,3,3,3,3,3,3,3,3,4,4,4,4,4,4,4,4]\n",
    "# 4. no increase at all -> False, no Sepsis\n",
    "sofa4 = [2,2,2,2,2,2,2,2,2,2,2,2,2,2,2,2,2,2,2,2,2,2,2,2]\n",
    "\n",
    "print(\"1. +2 increase in the 24th hour -> 23 (0-indexed): \",sc.get_t_sofa(sofa1),\n",
    "        \"\\n2. +2 increase in the 36th hour (and within 24 hrs) -> 35 0-indexed: \",sc.get_t_sofa(sofa2),\n",
    "        \"\\n3. +2 increase, but not within 24 hrs -> False, no Sepsis: \",sc.get_t_sofa(sofa3),\n",
    "        \"\\n4. no increase at all -> False, no Sepsis: \",sc.get_t_sofa(sofa4))"
   ]
  },
  {
   "attachments": {},
   "cell_type": "markdown",
   "metadata": {},
   "source": [
    "### Testing 'iv_check(hourly list of iv-antibiotics active or not)':\n",
    "    1. 72+ hours of True -> 0 (0-indexed)\n",
    "    2. 71 hours of True -> False, No Sepsis\n",
    "    3. 36 hours of True, 1 False, 36 hours of True -> False, not consecutive, No Sepsis\n",
    "    4. Sparsely True and False throughout the list -> False, not consecutive, No Sepsis"
   ]
  },
  {
   "cell_type": "code",
   "execution_count": 15,
   "metadata": {},
   "outputs": [
    {
     "name": "stdout",
     "output_type": "stream",
     "text": [
      "1. 72+ hours of True -> 0 (0-indexed):  0 \n",
      "2. 71 hours of True -> False, No Sepsis:  False \n",
      "3. 36 hours of True, 1 False, 36 hours of True -> False, not consecutive, No Sepsis:  False \n",
      "4. Sparsely True and False throughout the list -> False, not consecutive, No Sepsis:  False\n"
     ]
    }
   ],
   "source": [
    "# 1. 72+ hours of True -> 0 (0-indexed)\n",
    "IV1 = [True, True, True, True, True, True, True, True, True, True, True, True, True, True, True, True, True, True, True, True, True, True, True, True, True, True, True, True, True, True, True, True, True, True, True, True, True, True, True, True, True, True, True, True, True, True, True, True, True, True, True, True, True, True, True, True, True, True, True, True, True, True, True, True, True, True, True, True, True, True, True, True]\n",
    "# 2. 71 hours of True -> False, No Sepsis\n",
    "IV2 = [True, True, True, True, True, True, True, True, True, True, True, True, True, True, True, True, True, True, True, True, True, True, True, True, True, True, True, True, True, True, True, True, True, True, True, True, True, True, True, True, True, True, True, True, True, True, True, True, True, True, True, True, True, True, True, True, True, True, True, True, True, True, True, True, True, True, True, True, True, True, True]\n",
    "# 3. 36 hours of True, 1 False, 36 hours of True -> False, not consecutive, No Sepsis\n",
    "IV3 = [True, True, True, True, True, True, True, True, True, True, True, True, True, True, True, True, True, True, True, True, True, True, True, True, True, True, True, True, True, True, True, True, False, True, True, True, True, True, True, True, True, True, True, True, True, True, True, True, True, True, True, True, True, True, True, True, True, True, True, True, True, True, True, True, True, True, True, True, True, True, True, True, True]\n",
    "# 4. Sparsely True and False throughout the list -> False, not consecutive, No Sepsis\n",
    "IV4 = [True, True, True, False, True, False, False, True, True, True, True, False, True, False, False, True, True, True, True, False, True, False, False, True, True, True, True, False, True, False, False, True, True, True, True, False, True, False, False, True, True, True, True, False, True, False, False, True, True, True, True, False, True, False, False, True, True, True, True, False, True, False, False, True, True, True, True, False, True, False, False, True]\n",
    "\n",
    "print(\"1. 72+ hours of True -> 0 (0-indexed): \",sc.iv_check(IV1),\n",
    "    \"\\n2. 71 hours of True -> False, No Sepsis: \",sc.iv_check(IV2),\n",
    "    \"\\n3. 36 hours of True, 1 False, 36 hours of True -> False, not consecutive, No Sepsis: \",sc.iv_check(IV3),\n",
    "    \"\\n4. Sparsely True and False throughout the list -> False, not consecutive, No Sepsis: \",sc.iv_check(IV4))"
   ]
  },
  {
   "attachments": {},
   "cell_type": "markdown",
   "metadata": {},
   "source": [
    "### Testing 'blood_check(hourly list of whether cultures were taken)':\n",
    "    1. only False -> False, No Sepsis\n",
    "    2. only True -> 0th timestep\n",
    "    3. First true at position 30 -> 29 (0-indexed)\n",
    "    4. various True throughout the list -> 4 (0-indexed first occurence of True)"
   ]
  },
  {
   "cell_type": "code",
   "execution_count": 16,
   "metadata": {},
   "outputs": [
    {
     "name": "stdout",
     "output_type": "stream",
     "text": [
      "1. only False -> False, No Sepsis:  False \n",
      "2. only True -> 0th timestep:  0 \n",
      "3. First true at position 30 -> 29 (0-indexed):  29 \n",
      "4. various True throughout the list -> 4 (0-indexed first occurence of True):  4\n"
     ]
    }
   ],
   "source": [
    "# 1. only False -> False, No Sepsis\n",
    "blood1 = [False, False, False, False, False, False, False, False]\n",
    "# 2. only True -> 0th timestep\n",
    "blood2 = [True, True, True, True, True, True, True, True]\n",
    "# 3. First true at position 30 -> 29 (0-indexed)\n",
    "blood3 = [False, False, False, False, False, False, False, False, False, False, False, False, False, False, False, False, False, False, False, False, False, False, False, False, False, False, False, False, False, True, False, False, True, False, False, False, False, False, False, False, True, False, False, False, False, False, False, True, False, False, False, False, False, False, True, False, False, False, False, False, False, True, False, False, False, False, False, False, True, False, False, False]\n",
    "# 4. various True throughout the list -> 4 (0-indexed first occurence of True)\n",
    "blood4 = [False, False, False, False, True, True, False, False, False, False, False, False, True, True, False, False]\n",
    "\n",
    "print(\"1. only False -> False, No Sepsis: \",sc.blood_check(blood1),\n",
    "    \"\\n2. only True -> 0th timestep: \",sc.blood_check(blood2),\n",
    "    \"\\n3. First true at position 30 -> 29 (0-indexed): \",sc.blood_check(blood3),\n",
    "    \"\\n4. various True throughout the list -> 4 (0-indexed first occurence of True): \",sc.blood_check(blood4))"
   ]
  },
  {
   "attachments": {},
   "cell_type": "markdown",
   "metadata": {},
   "source": [
    "### Testing 'get_t_sus(t_of_IV, t_of_bloodcultures)':\n",
    "    1. t_of_IV == False -> False, no Sepsis\n",
    "    2. t_of_bloodcultures == False -> False, no Sepsis\n",
    "    3 Antibiotics first:\n",
    "        3.1 Antibiotics at 1 and cultures at 25 (within 24 hrs) -> t_sus = 1\n",
    "        3.2 Antibiotics at 1 and cultures at 26 (not within 24 hrs) -> False, no Sepsis\n",
    "    4 Blood Cultures first:\n",
    "        4.1 Cultures at 0 and Antibiotics at 72 (within 72 hrs) -> t_sus = 0\n",
    "        4.2 Cultures at 0 and Antibiotics at 73 (not within 72 hrs) -> False, no Sepsis\n",
    "    5. Blood Cultures and Antibiotics at the same time (3) -> 3"
   ]
  },
  {
   "cell_type": "code",
   "execution_count": 17,
   "metadata": {},
   "outputs": [
    {
     "name": "stdout",
     "output_type": "stream",
     "text": [
      "1. t_of_IV == False -> False, no Sepsis:  False \n",
      "2. t_of_bloodcultures == False -> False, no Sepsis:  False \n",
      "3 Antibiotics first \n",
      "3.1 Antibiotics at 1 and cultures at 25 (within 24 hrs) -> t_sus = 1:  1 \n",
      "3.2 Antibiotics at 1 and cultures at 26 (not within 24 hrs) -> False, no Sepsis:  False \n",
      "4 Blood Cultures first \n",
      "4.1 Cultures at 0 and Antibiotics at 72 (within 72 hrs) -> t_sus = 0:  0 \n",
      "4.2 Cultures at 0 and Antibiotics at 73 (not within 72 hrs) -> False, no Sepsis:  False \n",
      "5. Blood Cultures and Antibiotics at the same time (3) -> 3:  3\n"
     ]
    }
   ],
   "source": [
    "# 1. t_of_IV == False -> False, No Sepsis\n",
    "tIV1 = False\n",
    "tBC1 = 2\n",
    "# 2. t_of_bloodcultures == False -> False, no Sepsis\n",
    "tIV2 = 2\n",
    "tBC2 = False\n",
    "# 3 Antibiotics first:\n",
    "# 3.1 Antibiotics at 1 and cultures at 25 (within 24 hrs) -> t_sus = 1\n",
    "tIV31 = 1\n",
    "tBC31 = 25\n",
    "# 3.2 Antibiotics at 1 and cultures at 26 (not within 24 hrs) -> False, no Sepsis\n",
    "tIV32 = 1\n",
    "tBC32 = 26\n",
    "# 4 Blood Cultures first:\n",
    "# 4.1 Cultures at 0 and Antibiotics at 72 (within 72 hrs) -> t_sus = 0\n",
    "tIV41 = 72\n",
    "tBC41 = 0\n",
    "# 4.2 Cultures at 0 and Antibiotics at 73 (not within 72 hrs) -> False, no Sepsis\n",
    "tIV42 = 73\n",
    "tBC42 = 0\n",
    "# 5. Blood Cultures and Antibiotics at the same time (3) -> 3\n",
    "tIV5 = 3\n",
    "tBC5 = 3\n",
    "\n",
    "print(\"1. t_of_IV == False -> False, no Sepsis: \",sc.get_t_sus(tIV1, tBC1),\n",
    "    \"\\n2. t_of_bloodcultures == False -> False, no Sepsis: \",sc.get_t_sus(tIV2, tBC2),\n",
    "    \"\\n3 Antibiotics first\",\n",
    "    \"\\n3.1 Antibiotics at 1 and cultures at 25 (within 24 hrs) -> t_sus = 1: \",sc.get_t_sus(tIV31, tBC31),\n",
    "    \"\\n3.2 Antibiotics at 1 and cultures at 26 (not within 24 hrs) -> False, no Sepsis: \",sc.get_t_sus(tIV32, tBC32),\n",
    "    \"\\n4 Blood Cultures first\",\n",
    "    \"\\n4.1 Cultures at 0 and Antibiotics at 72 (within 72 hrs) -> t_sus = 0: \",sc.get_t_sus(tIV41, tBC41),\n",
    "    \"\\n4.2 Cultures at 0 and Antibiotics at 73 (not within 72 hrs) -> False, no Sepsis: \",sc.get_t_sus(tIV42, tBC42),\n",
    "    \"\\n5. Blood Cultures and Antibiotics at the same time (3) -> 3: \",sc.get_t_sus(tIV5, tBC5))\n",
    "\n",
    "\n"
   ]
  },
  {
   "attachments": {},
   "cell_type": "markdown",
   "metadata": {},
   "source": [
    "### Testing 'is_septic(t_sofa, t_sus)':\n",
    "    1. t_sofa == False -> False, no Sepsis\n",
    "    2. 2. t_sus == False -> False, no Sepsis\n",
    "    3 t_sofa first:\n",
    "        3.1 t_sofa at 1 and t_sus at 25 (within 24 hrs) -> True\n",
    "        3.2 t_sofa at 1 and t_sus at 26 (not within 24 hrs) -> False, no Sepsis\n",
    "    4 t_sus first:\n",
    "        4.1 t_sus at 0 and t_sofa at 12 (within 12 hrs) -> True\n",
    "        4.2 t_sus at 0 and t_sofa at 13 (not within 12 hrs)  -> False"
   ]
  },
  {
   "cell_type": "code",
   "execution_count": 18,
   "metadata": {},
   "outputs": [
    {
     "name": "stdout",
     "output_type": "stream",
     "text": [
      "1. t_sofa == False -> False, no Sepsis:  False \n",
      "2. t_sus == False -> False, no Sepsis:  False \n",
      "3 t_sofa first \n",
      "3.1 t_sofa at 1 and t_sus at 25 (within 24 hrs) -> True:  True \n",
      "3.2 t_sofa at 1 and t_sus at 26 (not within 24 hrs) -> False, no Sepsis:  False \n",
      "4 t_sus first \n",
      "4.1 t_sus at 0 and t_sofa at 12 (within 12 hrs) -> True:  True \n",
      "4.2 t_sus at 0 and t_sofa at 13 (not within 12 hrs)  -> False:  False\n"
     ]
    }
   ],
   "source": [
    "# 1. t_sofa == False -> False, No Sepsis\n",
    "tsofa1 = False\n",
    "tsus1 = 3\n",
    "# 2. t_sus == False -> False, No Sepsis\n",
    "tsofa2 = 3\n",
    "tsus2 = False\n",
    "# 3 t_sofa first:\n",
    "# 3.1 t_sofa at 1 and t_sus at 25 (within 24 hrs) -> True\n",
    "tsofa31 = 1\n",
    "tsus31 = 25\n",
    "# 3.2 t_sofa at 1 and t_sus at 26 (not within 24 hrs) -> False, no Sepsis\n",
    "tsofa32 = 1\n",
    "tsus32 = 26\n",
    "# 4 t_sus first:\n",
    "# 4.1 t_sus at 0 and t_sofa at 12 (within 12 hrs) -> True\n",
    "tsofa41 = 12\n",
    "tsus41 = 0\n",
    "# 4.2 t_sus at 0 and t_sofa at 13 (not within 12 hrs)  -> False\n",
    "tsofa42 = 13\n",
    "tsus42 = 0\n",
    "\n",
    "print(\"1. t_sofa == False -> False, no Sepsis: \", sc.is_septic(tsofa1, tsus1),\n",
    "    \"\\n2. t_sus == False -> False, no Sepsis: \",sc.is_septic(tsofa2,tsus2),\n",
    "    \"\\n3 t_sofa first\",\n",
    "    \"\\n3.1 t_sofa at 1 and t_sus at 25 (within 24 hrs) -> True: \",sc.is_septic(tsofa31, tsus31),\n",
    "    \"\\n3.2 t_sofa at 1 and t_sus at 26 (not within 24 hrs) -> False, no Sepsis: \",sc.is_septic(tsofa32,tsus32),\n",
    "    \"\\n4 t_sus first\",\n",
    "    \"\\n4.1 t_sus at 0 and t_sofa at 12 (within 12 hrs) -> True: \",sc.is_septic(tsofa41, tsus41),\n",
    "    \"\\n4.2 t_sus at 0 and t_sofa at 13 (not within 12 hrs)  -> False: \",sc.is_septic(tsofa42,tsus42))"
   ]
  }
 ],
 "metadata": {
  "kernelspec": {
   "display_name": "base3.7",
   "language": "python",
   "name": "python3"
  },
  "language_info": {
   "codemirror_mode": {
    "name": "ipython",
    "version": 3
   },
   "file_extension": ".py",
   "mimetype": "text/x-python",
   "name": "python",
   "nbconvert_exporter": "python",
   "pygments_lexer": "ipython3",
   "version": "3.7.11"
  },
  "orig_nbformat": 4,
  "vscode": {
   "interpreter": {
    "hash": "7db83ea46a682b9a03e21d236f689483c2914d8be6b8c148a242a6c4df43f3c1"
   }
  }
 },
 "nbformat": 4,
 "nbformat_minor": 2
}
