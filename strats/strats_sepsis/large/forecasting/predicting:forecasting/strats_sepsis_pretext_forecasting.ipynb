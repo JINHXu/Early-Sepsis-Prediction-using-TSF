{
  "nbformat": 4,
  "nbformat_minor": 0,
  "metadata": {
    "colab": {
      "provenance": [],
      "machine_shape": "hm",
      "toc_visible": true
    },
    "kernelspec": {
      "name": "python3",
      "display_name": "Python 3"
    },
    "language_info": {
      "name": "python"
    },
    "gpuClass": "premium"
  },
  "cells": [
    {
      "cell_type": "markdown",
      "source": [
        "# Forecasting: get regression predictions for sepsis check\n",
        "\n",
        "- physiological features only, no texts\n",
        "\n",
        "- full dataset `pre_text_small`\n",
        "\n",
        "- regression modeling/forecasting"
      ],
      "metadata": {
        "id": "vKzsqkt2Tbyd"
      }
    },
    {
      "cell_type": "markdown",
      "source": [
        "## Hardware check"
      ],
      "metadata": {
        "id": "ECKAJiLXiTlN"
      }
    },
    {
      "cell_type": "code",
      "execution_count": 3,
      "metadata": {
        "colab": {
          "base_uri": "https://localhost:8080/"
        },
        "id": "4qJoX5pZpJid",
        "outputId": "4c734e5f-3848-45c3-a4e1-b9181c1bca2a"
      },
      "outputs": [
        {
          "output_type": "stream",
          "name": "stdout",
          "text": [
            "NVIDIA-SMI has failed because it couldn't communicate with the NVIDIA driver. Make sure that the latest NVIDIA driver is installed and running.\n",
            "\n"
          ]
        }
      ],
      "source": [
        "# gpu check\n",
        "!nvidia-smi"
      ]
    },
    {
      "cell_type": "code",
      "source": [
        "# check number of cores\n",
        "import multiprocessing\n",
        "\n",
        "cores = multiprocessing.cpu_count() \n",
        "cores"
      ],
      "metadata": {
        "colab": {
          "base_uri": "https://localhost:8080/"
        },
        "id": "0x_cUBzmiSut",
        "outputId": "57e63fbd-999e-4fbf-9a77-04fb99c686e8"
      },
      "execution_count": 4,
      "outputs": [
        {
          "output_type": "execute_result",
          "data": {
            "text/plain": [
              "8"
            ]
          },
          "metadata": {},
          "execution_count": 4
        }
      ]
    },
    {
      "cell_type": "markdown",
      "source": [
        "## Environment Prep"
      ],
      "metadata": {
        "id": "vY9I5eXWeOom"
      }
    },
    {
      "cell_type": "code",
      "source": [
        "# ! pip install pandas==1.3.4\n",
        "# ! pip install tqdm==4.62.3\n",
        "# ! pip install numpy==1.21.2\n",
        "# ! pip install scikit-learn==0.24.2\n",
        "# ! pip install scipy==1.7.1\n",
        "# ! pip install setuptools==58.0.4\n",
        "# ! pip install tensorflow==2.3.0"
      ],
      "metadata": {
        "id": "BRXUglWE5fvf"
      },
      "execution_count": null,
      "outputs": []
    },
    {
      "cell_type": "code",
      "source": [
        "! pip install pandas==1.3.4\n",
        "! pip install tqdm==4.62.3\n",
        "! pip install numpy==1.21.2\n",
        "! pip install scikit-learn==0.24.2\n",
        "! pip install scipy==1.7.1\n",
        "! pip install setuptools==58.0.4\n",
        "# # ! pip install sip==4.19.8\n",
        "# # ! pip install six==1.16.0\n",
        "# # ! pip install sqlite==3.36.0\n",
        "# ! pip install tensorboard==1.15.0\n",
        "# # ! pip install tensorflow==2.3.0\n",
        "# ! pip install tensorflow-base==1.15.0\n",
        "# ! pip install tensorflow-estimator==2.3.0\n",
        "# # ! pip install tensorflow-gpu==1.15.0\n",
        "# ! pip install tensorflow-gpu==2.3.0\n",
        "! pip install tensorboard==1.15.0\n",
        "! pip install tensorflow==2.3.0\n",
        "! pip install tensorflow-base==1.15.0\n",
        "! pip install tensorflow-estimator==2.3.0\n",
        "! pip install tensorflow-gpu==1.15.0\n",
        "# ! pip uninstall tensorflow tensorflow-gpu\n",
        "# ! pip install tensorflow-gpu"
      ],
      "metadata": {
        "id": "oPaY49VOqvkk"
      },
      "execution_count": null,
      "outputs": []
    },
    {
      "cell_type": "code",
      "source": [
        "from tensorflow.keras.layers import Input, Dense, Dropout, BatchNormalization, Lambda\n",
        "from tensorflow.keras.models import Model\n",
        "# from tensorflow.keras import models\n",
        "import pickle\n",
        "import numpy as np\n",
        "from tqdm import tqdm\n",
        "tqdm.pandas()\n",
        "from sklearn.utils.class_weight import compute_class_weight\n",
        "from tensorflow.keras.optimizers import Adam\n",
        "from sklearn.metrics import roc_auc_score, precision_recall_curve, auc\n",
        "import tensorflow.keras.backend as K\n",
        "from tensorflow.keras.callbacks import Callback, EarlyStopping\n",
        "import pandas as pd\n",
        "import json\n",
        "from google.colab import files\n",
        "from sklearn.model_selection import train_test_split\n",
        "from collections import Counter\n",
        "import smart_cond as sc"
      ],
      "metadata": {
        "id": "XXs5pMOVDxPw"
      },
      "execution_count": 4,
      "outputs": []
    },
    {
      "cell_type": "markdown",
      "source": [
        "### Version Check"
      ],
      "metadata": {
        "id": "ylFHWoydK5S9"
      }
    },
    {
      "cell_type": "code",
      "source": [
        "import tensorflow as tf\n",
        "print(tf. __version__)"
      ],
      "metadata": {
        "id": "BE89CAmpE_Bh",
        "colab": {
          "base_uri": "https://localhost:8080/"
        },
        "outputId": "760d394e-c60a-46de-831d-b9c75faeffad"
      },
      "execution_count": 5,
      "outputs": [
        {
          "output_type": "stream",
          "name": "stdout",
          "text": [
            "2.11.0\n"
          ]
        }
      ]
    },
    {
      "cell_type": "code",
      "source": [
        "pickle.format_version"
      ],
      "metadata": {
        "colab": {
          "base_uri": "https://localhost:8080/",
          "height": 35
        },
        "id": "dVyQwdzHkJ_e",
        "outputId": "a52544e6-fa07-4282-c1d9-2b5a50791a0f"
      },
      "execution_count": 6,
      "outputs": [
        {
          "output_type": "execute_result",
          "data": {
            "text/plain": [
              "'4.0'"
            ],
            "application/vnd.google.colaboratory.intrinsic+json": {
              "type": "string"
            }
          },
          "metadata": {},
          "execution_count": 6
        }
      ]
    },
    {
      "cell_type": "markdown",
      "source": [
        "## Load Data"
      ],
      "metadata": {
        "id": "AfKWDkwoeSGU"
      }
    },
    {
      "cell_type": "code",
      "source": [
        "# connect to drive\n",
        "from google.colab import drive\n",
        "drive.mount('/content/drive')"
      ],
      "metadata": {
        "id": "BoA--HvHUFvQ",
        "colab": {
          "base_uri": "https://localhost:8080/"
        },
        "outputId": "fc81c36f-d968-47f3-d93c-b5bed12dd972"
      },
      "execution_count": 5,
      "outputs": [
        {
          "output_type": "stream",
          "name": "stdout",
          "text": [
            "Mounted at /content/drive\n"
          ]
        }
      ]
    },
    {
      "cell_type": "code",
      "source": [
        "! unzip /content/drive/MyDrive/sepsis/strats_exp/data/sepsis_data/pre_text/pre_text_small.zip"
      ],
      "metadata": {
        "colab": {
          "base_uri": "https://localhost:8080/"
        },
        "id": "OCqnPlWGDmbH",
        "outputId": "d36da0a0-c0b2-46b6-81a7-f0e879b22237"
      },
      "execution_count": 8,
      "outputs": [
        {
          "output_type": "stream",
          "name": "stdout",
          "text": [
            "Archive:  /content/drive/MyDrive/sepsis/strats_exp/data/sepsis_data/pre_text/pre_text_large.zip\n",
            "   creating: forecasting_exp1/\n",
            "  inflating: forecasting_exp1/mimic_iii_icu_forecasting1.csv  \n",
            "  inflating: forecasting_exp1/mimic_iii_preprocessed_forecasting1.pkl  \n",
            "  inflating: forecasting_exp1/mimic_iii_events_forecasting1.csv  \n"
          ]
        }
      ]
    },
    {
      "cell_type": "markdown",
      "source": [
        "### load from pkl and preprocess data"
      ],
      "metadata": {
        "id": "UTseBkBcBPFN"
      }
    },
    {
      "cell_type": "code",
      "source": [
        "# mortality data\n",
        "data_path = '/content/forecasting_exp1/mimic_iii_preprocessed_forecasting1.pkl'\n",
        "pkl = pickle.load(open(data_path, 'rb'))\n",
        "# data, oc, train_ind, valid_ind, test_ind = pd.read_pickle(open(data_path, 'rb'))\n",
        "\n",
        "data = pkl[0]\n",
        "oc = pkl[1]\n",
        "# 0.0 -> 1.0 to avoid exploding gradient (NaN loss of regression model)\n",
        "data.loc[data['variable'] == 'Antibiotics', 'value'] = 1\n",
        "data.loc[data['variable'] == 'Blood Culture', 'value'] = 1\n",
        "data.loc[data['variable'] == 'Mechanically ventilated', 'value'] = 1\n",
        "# delete overlapped variable due to typo in mortality data\n",
        "data = data[data['variable'] != 'vacomycin']\n",
        "# drop na to avoid exploding gradient\n",
        "data = data.dropna()\n",
        "oc = oc.dropna()"
      ],
      "metadata": {
        "id": "M0a6pj64Dn9J"
      },
      "execution_count": 9,
      "outputs": []
    },
    {
      "cell_type": "markdown",
      "source": [
        "### Load indices"
      ],
      "metadata": {
        "id": "PwcvGV1DJ7ae"
      }
    },
    {
      "cell_type": "code",
      "source": [
        "ids = oc['SUBJECT_ID'].tolist()\n",
        "labels = oc['in_hospital_sepsis'].tolist()\n",
        "new_patient_ids = []\n",
        "new_labels = []\n",
        "for i in range(len(labels)):\n",
        "  # print(i)\n",
        "  if ids[i] in new_patient_ids:\n",
        "    continue\n",
        "  else:\n",
        "    new_patient_ids.append(ids[i])\n",
        "    new_labels.append(labels[i])\n",
        "\n",
        "x, x_test, y, y_test = train_test_split(new_patient_ids, new_labels, test_size=0.2, random_state=1)\n",
        "x_train, x_val, y_train, y_val = train_test_split(x, y, test_size=0.2, random_state=1)\n",
        "\n",
        " # train\n",
        "train_ind = []\n",
        "ts_ind = oc['ts_ind'].tolist()\n",
        "# ids = ids\n",
        "for i in range(len(ts_ind)):\n",
        "  if ids[i] in x_train:\n",
        "    train_ind.append(ts_ind[i])\n",
        "test_ind = []\n",
        "for i in range(len(ts_ind)):\n",
        "  if ids[i] in x_test:\n",
        "    test_ind.append(ts_ind[i])\n",
        "# to np.array\n",
        "test_ind = np.array(test_ind)\n",
        "valid_ind = []\n",
        "for i in range(len(ts_ind)):\n",
        "  if ids[i] in x_val:\n",
        "    valid_ind.append(ts_ind[i])\n",
        "# to np.array\n",
        "valid_ind = np.array(valid_ind)"
      ],
      "metadata": {
        "id": "tQ9-yIum1eiR"
      },
      "execution_count": 10,
      "outputs": []
    },
    {
      "cell_type": "markdown",
      "source": [
        "### save preprocessed data to pkl"
      ],
      "metadata": {
        "id": "0I0wqU6SBErH"
      }
    },
    {
      "cell_type": "code",
      "source": [
        "# save preprocessed data\n",
        "pickle.dump([data, oc, train_ind, valid_ind, test_ind], open('sepsis_pretext_large_processed.pkl','wb'))"
      ],
      "metadata": {
        "id": "8veLzvuvtw7y"
      },
      "execution_count": 16,
      "outputs": []
    },
    {
      "cell_type": "markdown",
      "source": [
        "## Define metrics and losses"
      ],
      "metadata": {
        "id": "tQZ34MheBTxl"
      }
    },
    {
      "cell_type": "code",
      "source": [
        "def get_res(y_true, y_pred):\n",
        "    precision, recall, thresholds = precision_recall_curve(y_true, y_pred)\n",
        "    pr_auc = auc(recall, precision)\n",
        "    minrp = np.minimum(precision, recall).max()\n",
        "    roc_auc = roc_auc_score(y_true, y_pred)\n",
        "    return [roc_auc, pr_auc, minrp]\n",
        "\n",
        "# ######################################################################################################## \n",
        "# ######################################################################################################## \n",
        "# class_weights = compute_class_weight(class_weight='balanced', classes=[0,1], y=train_op)\n",
        "# def mortality_loss(y_true, y_pred):\n",
        "#     sample_weights = (1-y_true)*class_weights[0] + y_true*class_weights[1]\n",
        "#     bce = K.binary_crossentropy(y_true, y_pred)\n",
        "#     return K.mean(sample_weights*bce, axis=-1)\n",
        "# ######################################################################################################## \n",
        "# ######################################################################################################## \n",
        "\n",
        "# var_weights = np.sum(fore_train_op[:, V:], axis=0)\n",
        "# var_weights[var_weights==0] = var_weights.max()\n",
        "# var_weights = var_weights.max()/var_weights\n",
        "# var_weights = var_weights.reshape((1, V))\n",
        "def forecast_loss(y_true, y_pred):\n",
        "    return K.sum(y_true[:,V:]*(y_true[:,:V]-y_pred)**2, axis=-1)\n",
        "\n",
        "def get_min_loss(weight):\n",
        "    def min_loss(y_true, y_pred):\n",
        "        return weight*y_pred\n",
        "    return min_loss\n",
        "\n",
        "class CustomCallback(Callback):\n",
        "    def __init__(self, validation_data, batch_size):\n",
        "        self.val_x, self.val_y = validation_data\n",
        "        self.batch_size = batch_size\n",
        "        super(Callback, self).__init__()\n",
        "\n",
        "    def on_epoch_end(self, epoch, logs={}):\n",
        "        y_pred = self.model.predict(self.val_x, verbose=0, batch_size=self.batch_size)\n",
        "        if type(y_pred)==type([]):\n",
        "            y_pred = y_pred[0]\n",
        "        precision, recall, thresholds = precision_recall_curve(self.val_y, y_pred)\n",
        "        pr_auc = auc(recall, precision)\n",
        "        roc_auc = roc_auc_score(self.val_y, y_pred)\n",
        "        logs['custom_metric'] = pr_auc + roc_auc\n",
        "        print ('val_aucs:', pr_auc, roc_auc)"
      ],
      "metadata": {
        "id": "C8VrWUiiwBBy"
      },
      "execution_count": 22,
      "outputs": []
    },
    {
      "cell_type": "markdown",
      "source": [
        "## Define model architecture"
      ],
      "metadata": {
        "id": "N5jp7yJKBZJF"
      }
    },
    {
      "cell_type": "code",
      "source": [
        "import tensorflow as tf\n",
        "import numpy as np\n",
        "import tensorflow.keras.backend as K\n",
        "from tensorflow.keras.layers import Embedding, Activation, Dropout, Softmax, Layer, InputSpec, Input, Dense, Lambda, TimeDistributed, Concatenate, Add\n",
        "from tensorflow.keras import initializers, regularizers, constraints, Model\n",
        "from tensorflow.python.keras.utils import tf_utils\n",
        "from tensorflow.python.ops import array_ops\n",
        "from tensorflow import nn\n",
        "\n",
        "    \n",
        "class CVE(Layer):\n",
        "    def __init__(self, hid_units, output_dim):\n",
        "        self.hid_units = hid_units\n",
        "        self.output_dim = output_dim\n",
        "        super(CVE, self).__init__()\n",
        "        \n",
        "    def build(self, input_shape): \n",
        "        self.W1 = self.add_weight(name='CVE_W1',\n",
        "                            shape=(1, self.hid_units),\n",
        "                            initializer='glorot_uniform',\n",
        "                            trainable=True)\n",
        "        self.b1 = self.add_weight(name='CVE_b1',\n",
        "                            shape=(self.hid_units,),\n",
        "                            initializer='zeros',\n",
        "                            trainable=True)\n",
        "        self.W2 = self.add_weight(name='CVE_W2',\n",
        "                            shape=(self.hid_units, self.output_dim),\n",
        "                            initializer='glorot_uniform',\n",
        "                            trainable=True)\n",
        "        super(CVE, self).build(input_shape)\n",
        "        \n",
        "    def call(self, x):\n",
        "        x = K.expand_dims(x, axis=-1)\n",
        "        x = K.dot(K.tanh(K.bias_add(K.dot(x, self.W1), self.b1)), self.W2)\n",
        "        return x\n",
        "        \n",
        "    def compute_output_shape(self, input_shape):\n",
        "        return input_shape + (self.output_dim,)\n",
        "    \n",
        "    \n",
        "class Attention(Layer):\n",
        "    \n",
        "    def __init__(self, hid_dim):\n",
        "        self.hid_dim = hid_dim\n",
        "        super(Attention, self).__init__()\n",
        "\n",
        "    def build(self, input_shape):\n",
        "        d = input_shape.as_list()[-1]\n",
        "        self.W = self.add_weight(shape=(d, self.hid_dim), name='Att_W',\n",
        "                                 initializer='glorot_uniform',\n",
        "                                 trainable=True)\n",
        "        self.b = self.add_weight(shape=(self.hid_dim,), name='Att_b',\n",
        "                                 initializer='zeros',\n",
        "                                 trainable=True)\n",
        "        self.u = self.add_weight(shape=(self.hid_dim,1), name='Att_u',\n",
        "                                 initializer='glorot_uniform',\n",
        "                                 trainable=True)\n",
        "        super(Attention, self).build(input_shape)\n",
        "        \n",
        "    def call(self, x, mask, mask_value=-1e30):\n",
        "        attn_weights = K.dot(K.tanh(K.bias_add(K.dot(x,self.W), self.b)), self.u)\n",
        "        mask = K.expand_dims(mask, axis=-1)\n",
        "        attn_weights = mask*attn_weights + (1-mask)*mask_value\n",
        "        attn_weights = K.softmax(attn_weights, axis=-2)\n",
        "        return attn_weights\n",
        "        \n",
        "    def compute_output_shape(self, input_shape):\n",
        "        return input_shape[:-1] + (1,)\n",
        "    \n",
        "    \n",
        "class Transformer(Layer):\n",
        "    \n",
        "    def __init__(self, N=2, h=8, dk=None, dv=None, dff=None, dropout=0):\n",
        "        self.N, self.h, self.dk, self.dv, self.dff, self.dropout = N, h, dk, dv, dff, dropout\n",
        "        self.epsilon = K.epsilon() * K.epsilon()\n",
        "        super(Transformer, self).__init__()\n",
        "\n",
        "    def build(self, input_shape):\n",
        "        d = input_shape.as_list()[-1]\n",
        "        if self.dk==None:\n",
        "            self.dk = d//self.h\n",
        "        if self.dv==None:\n",
        "            self.dv = d//self.h\n",
        "        if self.dff==None:\n",
        "            self.dff = 2*d\n",
        "        self.Wq = self.add_weight(shape=(self.N, self.h, d, self.dk), name='Wq',\n",
        "                                 initializer='glorot_uniform', trainable=True)\n",
        "        self.Wk = self.add_weight(shape=(self.N, self.h, d, self.dk), name='Wk',\n",
        "                                 initializer='glorot_uniform', trainable=True)\n",
        "        self.Wv = self.add_weight(shape=(self.N, self.h, d, self.dv), name='Wv',\n",
        "                                 initializer='glorot_uniform', trainable=True)\n",
        "        self.Wo = self.add_weight(shape=(self.N, self.dv*self.h, d), name='Wo',\n",
        "                                 initializer='glorot_uniform', trainable=True)\n",
        "        self.W1 = self.add_weight(shape=(self.N, d, self.dff), name='W1',\n",
        "                                 initializer='glorot_uniform', trainable=True)\n",
        "        self.b1 = self.add_weight(shape=(self.N, self.dff), name='b1',\n",
        "                                 initializer='zeros', trainable=True)\n",
        "        self.W2 = self.add_weight(shape=(self.N, self.dff, d), name='W2',\n",
        "                                 initializer='glorot_uniform', trainable=True)\n",
        "        self.b2 = self.add_weight(shape=(self.N, d), name='b2',\n",
        "                                 initializer='zeros', trainable=True)\n",
        "        self.gamma = self.add_weight(shape=(2*self.N,), name='gamma',\n",
        "                                 initializer='ones', trainable=True)\n",
        "        self.beta = self.add_weight(shape=(2*self.N,), name='beta',\n",
        "                                 initializer='zeros', trainable=True)\n",
        "        super(Transformer, self).build(input_shape)\n",
        "        \n",
        "    def call(self, x, mask, mask_value=-1e-30):\n",
        "        mask = K.expand_dims(mask, axis=-2)\n",
        "        for i in range(self.N):\n",
        "            # MHA\n",
        "            mha_ops = []\n",
        "            for j in range(self.h):\n",
        "                q = K.dot(x, self.Wq[i,j,:,:])\n",
        "                k = K.permute_dimensions(K.dot(x, self.Wk[i,j,:,:]), (0,2,1))\n",
        "                v = K.dot(x, self.Wv[i,j,:,:])\n",
        "                A = K.batch_dot(q,k)\n",
        "                # Mask unobserved steps.\n",
        "                A = mask*A + (1-mask)*mask_value\n",
        "                # Mask for attention dropout.\n",
        "                def dropped_A():\n",
        "                    dp_mask = K.cast((K.random_uniform(shape=array_ops.shape(A))>=self.dropout), K.floatx())\n",
        "                    return A*dp_mask + (1-dp_mask)*mask_value\n",
        "                A = sc.smart_cond(K.learning_phase(), dropped_A, lambda: array_ops.identity(A))\n",
        "                A = K.softmax(A, axis=-1)\n",
        "                mha_ops.append(K.batch_dot(A,v))\n",
        "            conc = K.concatenate(mha_ops, axis=-1)\n",
        "            proj = K.dot(conc, self.Wo[i,:,:])\n",
        "            # Dropout.\n",
        "            proj = sc.smart_cond(K.learning_phase(), lambda: array_ops.identity(nn.dropout(proj, rate=self.dropout)),\\\n",
        "                                       lambda: array_ops.identity(proj))\n",
        "            # Add & LN\n",
        "            x = x+proj\n",
        "            mean = K.mean(x, axis=-1, keepdims=True)\n",
        "            variance = K.mean(K.square(x - mean), axis=-1, keepdims=True)\n",
        "            std = K.sqrt(variance + self.epsilon)\n",
        "            x = (x - mean) / std\n",
        "            x = x*self.gamma[2*i] + self.beta[2*i]\n",
        "            # FFN\n",
        "            ffn_op = K.bias_add(K.dot(K.relu(K.bias_add(K.dot(x, self.W1[i,:,:]), self.b1[i,:])), \n",
        "                           self.W2[i,:,:]), self.b2[i,:,])\n",
        "            # Dropout.\n",
        "            ffn_op = sc.smart_cond(K.learning_phase(), lambda: array_ops.identity(nn.dropout(ffn_op, rate=self.dropout)),\\\n",
        "                                       lambda: array_ops.identity(ffn_op))\n",
        "            # Add & LN\n",
        "            x = x+ffn_op\n",
        "            mean = K.mean(x, axis=-1, keepdims=True)\n",
        "            variance = K.mean(K.square(x - mean), axis=-1, keepdims=True)\n",
        "            std = K.sqrt(variance + self.epsilon)\n",
        "            x = (x - mean) / std\n",
        "            x = x*self.gamma[2*i+1] + self.beta[2*i+1]            \n",
        "        return x\n",
        "        \n",
        "    def compute_output_shape(self, input_shape):\n",
        "        return input_shape\n",
        "\n",
        "\n",
        "def build_strats(D, max_len, V, d, N, he, dropout, forecast=False):\n",
        "    demo = Input(shape=(D,))\n",
        "    demo_enc = Dense(2*d, activation='tanh')(demo)\n",
        "    demo_enc = Dense(d, activation='tanh')(demo_enc)\n",
        "    varis = Input(shape=(max_len,))\n",
        "    values = Input(shape=(max_len,))\n",
        "    times = Input(shape=(max_len,))\n",
        "    varis_emb = Embedding(V+1, d)(varis)\n",
        "    cve_units = int(np.sqrt(d))\n",
        "    values_emb = CVE(cve_units, d)(values)\n",
        "    times_emb = CVE(cve_units, d)(times)\n",
        "    comb_emb = Add()([varis_emb, values_emb, times_emb]) # b, L, d\n",
        "#     demo_enc = Lambda(lambda x:K.expand_dims(x, axis=-2))(demo_enc) # b, 1, d\n",
        "#     comb_emb = Concatenate(axis=-2)([demo_enc, comb_emb]) # b, L+1, d\n",
        "    mask = Lambda(lambda x:K.clip(x,0,1))(varis) # b, L\n",
        "#     mask = Lambda(lambda x:K.concatenate((K.ones_like(x)[:,0:1], x), axis=-1))(mask) # b, L+1\n",
        "    cont_emb = Transformer(N, he, dk=None, dv=None, dff=None, dropout=dropout)(comb_emb, mask=mask)\n",
        "    attn_weights = Attention(2*d)(cont_emb, mask=mask)\n",
        "    fused_emb = Lambda(lambda x:K.sum(x[0]*x[1], axis=-2))([cont_emb, attn_weights])\n",
        "    conc = Concatenate(axis=-1)([fused_emb, demo_enc])\n",
        "    fore_op = Dense(V)(conc)\n",
        "    op = Dense(1, activation='sigmoid')(fore_op)\n",
        "    model = Model([demo, times, values, varis], op)\n",
        "    if forecast:\n",
        "        fore_model = Model([demo, times, values, varis], fore_op)\n",
        "        return [model, fore_model]\n",
        "    return model\n",
        "\n",
        "# To tune:\n",
        "# 1. Transformer parameters. (N, h, dropout)\n",
        "# 2. Normalization"
      ],
      "metadata": {
        "id": "isIVij5VwFhk"
      },
      "execution_count": 23,
      "outputs": []
    },
    {
      "cell_type": "markdown",
      "source": [
        "## Val"
      ],
      "metadata": {
        "id": "et8Yt1st526F"
      }
    },
    {
      "cell_type": "markdown",
      "source": [
        "### Load val data into matrices"
      ],
      "metadata": {
        "id": "vUK6wM55BfQe"
      }
    },
    {
      "cell_type": "code",
      "source": [
        "pred_window = 2 # hours\n",
        "obs_windows = range(20, 124, 4)\n",
        "\n",
        "# Remove test patients.\n",
        "data = data.merge(oc[['ts_ind', 'SUBJECT_ID']], on='ts_ind', how='left')\n",
        "test_sub = oc.loc[oc.ts_ind.isin(test_ind)].SUBJECT_ID.unique()\n",
        "data = data.loc[~data.SUBJECT_ID.isin(test_sub)]\n",
        "oc = oc.loc[~oc.SUBJECT_ID.isin(test_sub)]\n",
        "data.drop(columns=['SUBJECT_ID', 'TABLE'], inplace=True)\n",
        "# Fix age.\n",
        "data.loc[(data.variable=='Age')&(data.value>200), 'value'] = 91.4\n",
        "# Get static data with mean fill and missingness indicator.\n",
        "static_varis = ['Age', 'Gender']\n",
        "ii = data.variable.isin(static_varis)\n",
        "static_data = data.loc[ii]\n",
        "data = data.loc[~ii]\n",
        "def inv_list(l, start=0):\n",
        "    d = {}\n",
        "    for i in range(len(l)):\n",
        "        d[l[i]] = i+start\n",
        "    return d\n",
        "static_var_to_ind = inv_list(static_varis)\n",
        "D = len(static_varis)\n",
        "N = data.ts_ind.max()+1\n",
        "demo = np.zeros((N, D))\n",
        "for row in tqdm(static_data.itertuples()):\n",
        "    demo[row.ts_ind, static_var_to_ind[row.variable]] = row.value\n",
        "# Normalize static data.\n",
        "means = demo.mean(axis=0, keepdims=True)\n",
        "stds = demo.std(axis=0, keepdims=True)\n",
        "stds = (stds==0)*1 + (stds!=0)*stds\n",
        "demo = (demo-means)/stds\n",
        "\n",
        "# Get variable indices.\n",
        "varis = sorted(list(set(data.variable)))\n",
        "V = len(varis)\n",
        "var_to_ind = inv_list(varis, start=1)\n",
        "data['vind'] = data.variable.map(var_to_ind)\n",
        "data = data[['ts_ind', 'vind', 'hour', 'value']].sort_values(by=['ts_ind', 'vind', 'hour'])\n",
        "# Find max_len.\n",
        "fore_max_len = 880\n",
        "# Get forecast inputs and outputs.\n",
        "fore_times_ip = []\n",
        "fore_values_ip = []\n",
        "fore_varis_ip = []\n",
        "fore_op = []\n",
        "fore_inds = []\n",
        "def f(x):\n",
        "    mask = [0 for i in range(V)]\n",
        "    values = [0 for i in range(V)]\n",
        "    for vv in x:\n",
        "        v = int(vv[0])-1\n",
        "        mask[v] = 1\n",
        "        values[v] = vv[1]\n",
        "    return values+mask\n",
        "def pad(x):\n",
        "    return x+[0]*(fore_max_len-len(x))\n",
        "for w in tqdm(obs_windows):\n",
        "    pred_data = data.loc[(data.hour>=w)&(data.hour<=w+pred_window)]\n",
        "    pred_data = pred_data.groupby(['ts_ind', 'vind']).agg({'value':'first'}).reset_index()\n",
        "    pred_data['vind_value'] = pred_data[['vind', 'value']].values.tolist()\n",
        "    pred_data = pred_data.groupby('ts_ind').agg({'vind_value':list}).reset_index()\n",
        "    pred_data['vind_value'] = pred_data['vind_value'].apply(f)    \n",
        "    obs_data = data.loc[(data.hour<w)&(data.hour>=w-24)]\n",
        "    obs_data = obs_data.loc[obs_data.ts_ind.isin(pred_data.ts_ind)]\n",
        "    obs_data = obs_data.groupby('ts_ind').head(fore_max_len)\n",
        "    obs_data = obs_data.groupby('ts_ind').agg({'vind':list, 'hour':list, 'value':list}).reset_index()\n",
        "    obs_data = obs_data.merge(pred_data, on='ts_ind')\n",
        "    for col in ['vind', 'hour', 'value']:\n",
        "        obs_data[col] = obs_data[col].apply(pad)\n",
        "    fore_op.append(np.array(list(obs_data.vind_value)))\n",
        "    fore_inds.append(np.array(list(obs_data.ts_ind)))\n",
        "    fore_times_ip.append(np.array(list(obs_data.hour)))\n",
        "    fore_values_ip.append(np.array(list(obs_data.value)))\n",
        "    fore_varis_ip.append(np.array(list(obs_data.vind)))\n",
        "# del data\n",
        "fore_times_ip = np.concatenate(fore_times_ip, axis=0)\n",
        "fore_values_ip = np.concatenate(fore_values_ip, axis=0)\n",
        "fore_varis_ip = np.concatenate(fore_varis_ip, axis=0)\n",
        "fore_op = np.concatenate(fore_op, axis=0)\n",
        "fore_inds = np.concatenate(fore_inds, axis=0)\n",
        "fore_demo = demo[fore_inds]\n",
        "# Get train and valid ts_ind for forecast task.\n",
        "train_sub = oc.loc[oc.ts_ind.isin(train_ind)].SUBJECT_ID.unique()\n",
        "valid_sub = oc.loc[oc.ts_ind.isin(valid_ind)].SUBJECT_ID.unique()\n",
        "rem_sub = oc.loc[~oc.SUBJECT_ID.isin(np.concatenate((train_ind, valid_ind)))].SUBJECT_ID.unique()\n",
        "bp = int(0.8*len(rem_sub))\n",
        "train_sub = np.concatenate((train_sub, rem_sub[:bp]))\n",
        "valid_sub = np.concatenate((valid_sub, rem_sub[bp:]))\n",
        "train_ind = oc.loc[oc.SUBJECT_ID.isin(train_sub)].ts_ind.unique() # Add remaining ts_ind s of train subjects.\n",
        "valid_ind = oc.loc[oc.SUBJECT_ID.isin(valid_sub)].ts_ind.unique() # Add remaining ts_ind s of train subjects.\n",
        "# Generate 3 sets of inputs and outputs.\n",
        "train_ind = np.argwhere(np.in1d(fore_inds, train_ind)).flatten()\n",
        "valid_ind = np.argwhere(np.in1d(fore_inds, valid_ind)).flatten()\n",
        "fore_train_ip = [ip[train_ind] for ip in [fore_demo, fore_times_ip, fore_values_ip, fore_varis_ip]]\n",
        "fore_valid_ip = [ip[valid_ind] for ip in [fore_demo, fore_times_ip, fore_values_ip, fore_varis_ip]]\n",
        "# del fore_times_ip, fore_values_ip, fore_varis_ip, demo, fore_demo\n",
        "fore_train_op = fore_op[train_ind]\n",
        "fore_valid_op = fore_op[valid_ind]\n",
        "# del fore_op"
      ],
      "metadata": {
        "colab": {
          "base_uri": "https://localhost:8080/"
        },
        "id": "B9QUN3cmrd-0",
        "outputId": "99e5b52c-192c-438d-8a4d-0191ea4ec22b"
      },
      "execution_count": 21,
      "outputs": [
        {
          "output_type": "stream",
          "name": "stderr",
          "text": [
            "91626it [00:00, 701267.66it/s]\n",
            "100%|██████████| 26/26 [05:00<00:00, 11.56s/it]\n"
          ]
        }
      ]
    },
    {
      "cell_type": "code",
      "source": [
        "# release RAM\n",
        "del fore_times_ip, fore_values_ip, fore_varis_ip, demo, fore_demo, data, fore_op"
      ],
      "metadata": {
        "id": "X0zlie3_zswU"
      },
      "execution_count": 22,
      "outputs": []
    },
    {
      "cell_type": "markdown",
      "source": [
        "### get y preds for val"
      ],
      "metadata": {
        "id": "6iuykxBoBj9g"
      }
    },
    {
      "cell_type": "code",
      "source": [
        "fore_savepath = '/content/mimic_iii_24h_strats_no_interp_with_ss_fore.h5'\n",
        "\n",
        "lr, batch_size, samples_per_epoch, patience = 0.0005, 32, 102400, 5\n",
        "d, N, he, dropout = 50, 2, 4, 0.2\n",
        "model, fore_model =  build_strats(D, fore_max_len, V, d, N, he, dropout, forecast=True)\n",
        "# print(fore_model.summary())\n",
        "fore_model.compile(loss=forecast_loss, optimizer=Adam(lr))\n",
        "fore_model.load_weights(fore_savepath)\n",
        "\n",
        "valid_y_preds = fore_model.predict(fore_valid_ip)"
      ],
      "metadata": {
        "colab": {
          "base_uri": "https://localhost:8080/"
        },
        "id": "00pTMXeowJRf",
        "outputId": "ba47ec2a-73cd-42b8-a5cc-89787e664ae0"
      },
      "execution_count": 24,
      "outputs": [
        {
          "output_type": "stream",
          "name": "stderr",
          "text": [
            "WARNING:tensorflow:From /usr/local/lib/python3.9/dist-packages/tensorflow/python/autograph/pyct/static_analysis/liveness.py:83: Analyzer.lamba_check (from tensorflow.python.autograph.pyct.static_analysis.liveness) is deprecated and will be removed after 2023-09-23.\n",
            "Instructions for updating:\n",
            "Lambda fuctions will be no more assumed to be used in the statement where they are used, or at least in the same block. https://github.com/tensorflow/tensorflow/issues/56089\n"
          ]
        },
        {
          "output_type": "stream",
          "name": "stdout",
          "text": [
            "4260/4260 [==============================] - 47s 10ms/step\n"
          ]
        }
      ]
    },
    {
      "cell_type": "markdown",
      "source": [
        "### `var_to_ind` mapping"
      ],
      "metadata": {
        "id": "wB_mUwohAszl"
      }
    },
    {
      "cell_type": "code",
      "source": [
        "var_to_ind"
      ],
      "metadata": {
        "colab": {
          "base_uri": "https://localhost:8080/"
        },
        "id": "B92ArYyp0odk",
        "outputId": "0a45fe7a-220c-4123-bb8d-30191ff64a6d"
      },
      "execution_count": 23,
      "outputs": [
        {
          "output_type": "execute_result",
          "data": {
            "text/plain": [
              "{'ALP': 1,\n",
              " 'ALT': 2,\n",
              " 'AST': 3,\n",
              " 'Albumin': 4,\n",
              " 'Albumin 25%': 5,\n",
              " 'Albumin 5%': 6,\n",
              " 'Amiodarone': 7,\n",
              " 'Anion Gap': 8,\n",
              " 'Antibiotics': 9,\n",
              " 'BUN': 10,\n",
              " 'Base Excess': 11,\n",
              " 'Basophils': 12,\n",
              " 'Bicarbonate': 13,\n",
              " 'Bilirubin (Direct)': 14,\n",
              " 'Bilirubin (Indirect)': 15,\n",
              " 'Bilirubin (Total)': 16,\n",
              " 'Blood Culture': 17,\n",
              " 'CRR': 18,\n",
              " 'Calcium Free': 19,\n",
              " 'Calcium Gluconate': 20,\n",
              " 'Calcium Total': 21,\n",
              " 'Cefazolin': 22,\n",
              " 'Chest Tube': 23,\n",
              " 'Chloride': 24,\n",
              " 'Colloid': 25,\n",
              " 'Creatinine Blood': 26,\n",
              " 'Creatinine Urine': 27,\n",
              " 'D5W': 28,\n",
              " 'DBP': 29,\n",
              " 'Dextrose Other': 30,\n",
              " 'Dopamine': 31,\n",
              " 'EBL': 32,\n",
              " 'Emesis': 33,\n",
              " 'Eoisinophils': 34,\n",
              " 'Epinephrine': 35,\n",
              " 'Famotidine': 36,\n",
              " 'Fentanyl': 37,\n",
              " 'FiO2': 38,\n",
              " 'Fiber': 39,\n",
              " 'Free Water': 40,\n",
              " 'Fresh Frozen Plasma': 41,\n",
              " 'Furosemide': 42,\n",
              " 'GCS_eye': 43,\n",
              " 'GCS_motor': 44,\n",
              " 'GCS_verbal': 45,\n",
              " 'GT Flush': 46,\n",
              " 'Gastric': 47,\n",
              " 'Gastric Meds': 48,\n",
              " 'Glucose (Blood)': 49,\n",
              " 'Glucose (Serum)': 50,\n",
              " 'Glucose (Whole Blood)': 51,\n",
              " 'HR': 52,\n",
              " 'Half Normal Saline': 53,\n",
              " 'Hct': 54,\n",
              " 'Height': 55,\n",
              " 'Heparin': 56,\n",
              " 'Hgb': 57,\n",
              " 'Hydralazine': 58,\n",
              " 'Hydromorphone': 59,\n",
              " 'INR': 60,\n",
              " 'Insulin Humalog': 61,\n",
              " 'Insulin NPH': 62,\n",
              " 'Insulin Regular': 63,\n",
              " 'Insulin largine': 64,\n",
              " 'Intubated': 65,\n",
              " 'Jackson-Pratt': 66,\n",
              " 'KCl': 67,\n",
              " 'KCl (Bolus)': 68,\n",
              " 'LDH': 69,\n",
              " 'Lactate': 70,\n",
              " 'Lactated Ringers': 71,\n",
              " 'Levofloxacin': 72,\n",
              " 'Lorazepam': 73,\n",
              " 'Lymphocytes': 74,\n",
              " 'Lymphocytes (Absolute)': 75,\n",
              " 'MBP': 76,\n",
              " 'MCH': 77,\n",
              " 'MCHC': 78,\n",
              " 'MCV': 79,\n",
              " 'Magnesium': 80,\n",
              " 'Magnesium Sulfate (Bolus)': 81,\n",
              " 'Magnesium Sulphate': 82,\n",
              " 'Mechanically ventilated': 83,\n",
              " 'Metoprolol': 84,\n",
              " 'Midazolam': 85,\n",
              " 'Milrinone': 86,\n",
              " 'Monocytes': 87,\n",
              " 'Morphine Sulfate': 88,\n",
              " 'Neosynephrine': 89,\n",
              " 'Neutrophils': 90,\n",
              " 'Nitroglycerine': 91,\n",
              " 'Nitroprusside': 92,\n",
              " 'Norepinephrine': 93,\n",
              " 'Normal Saline': 94,\n",
              " 'O2 Saturation': 95,\n",
              " 'OR/PACU Crystalloid': 96,\n",
              " 'PCO2': 97,\n",
              " 'PO intake': 98,\n",
              " 'PO2': 99,\n",
              " 'PT': 100,\n",
              " 'PTT': 101,\n",
              " 'Packed RBC': 102,\n",
              " 'Pantoprazole': 103,\n",
              " 'Phosphate': 104,\n",
              " 'Piggyback': 105,\n",
              " 'Piperacillin': 106,\n",
              " 'Platelet Count': 107,\n",
              " 'Potassium': 108,\n",
              " 'Pre-admission Intake': 109,\n",
              " 'Pre-admission Output': 110,\n",
              " 'Propofol': 111,\n",
              " 'RBC': 112,\n",
              " 'RDW': 113,\n",
              " 'RR': 114,\n",
              " 'Residual': 115,\n",
              " 'SBP': 116,\n",
              " 'SG Urine': 117,\n",
              " 'Sodium': 118,\n",
              " 'Solution': 119,\n",
              " 'Sterile Water': 120,\n",
              " 'Stool': 121,\n",
              " 'TPN': 122,\n",
              " 'Temperature': 123,\n",
              " 'Total CO2': 124,\n",
              " 'Ultrafiltrate': 125,\n",
              " 'Unknown': 126,\n",
              " 'Urine': 127,\n",
              " 'Vancomycin': 128,\n",
              " 'Vasopressin': 129,\n",
              " 'WBC': 130,\n",
              " 'Weight': 131,\n",
              " 'pH Blood': 132,\n",
              " 'pH Urine': 133}"
            ]
          },
          "metadata": {},
          "execution_count": 23
        }
      ]
    },
    {
      "cell_type": "code",
      "source": [
        "import json\n",
        "# save dictionary to json\n",
        "json.dump(var_to_ind, open(\"var_to_ind.json\", 'w'))"
      ],
      "metadata": {
        "id": "ri6VeltTpPcI"
      },
      "execution_count": 27,
      "outputs": []
    },
    {
      "cell_type": "markdown",
      "source": [
        "### Val input obsrevation windows"
      ],
      "metadata": {
        "id": "PCenHyJXB8cy"
      }
    },
    {
      "cell_type": "code",
      "source": [
        "hours = []\n",
        "max_hours = []\n",
        "# get hours\n",
        "for time in fore_valid_ip[1]:\n",
        "  hour = max(time)\n",
        "  max_hours.append(hour)\n",
        "\n",
        "  for obs_window in obs_windows:\n",
        "    if hour < obs_window:\n",
        "      hour = obs_window\n",
        "      break\n",
        "  \n",
        "  hours.append(hour)"
      ],
      "metadata": {
        "id": "z45cHZxU5eR5"
      },
      "execution_count": 28,
      "outputs": []
    },
    {
      "cell_type": "code",
      "source": [
        "import matplotlib.pyplot as plt\n",
        "\n",
        "plt.plot(range(len(max_hours)), max_hours)\n",
        "plt.show()"
      ],
      "metadata": {
        "colab": {
          "base_uri": "https://localhost:8080/",
          "height": 265
        },
        "id": "-NsdTNbS99ea",
        "outputId": "5f7a6c0b-30b3-43b9-b744-80bf4ae27a83"
      },
      "execution_count": 44,
      "outputs": [
        {
          "output_type": "display_data",
          "data": {
            "text/plain": [
              "<Figure size 432x288 with 1 Axes>"
            ],
            "image/png": "[encoded data removed]"
          },
          "metadata": {
            "needs_background": "light"
          }
        }
      ]
    },
    {
      "cell_type": "code",
      "source": [
        "from collections import Counter\n",
        "\n",
        "# forecasting observation window bins\n",
        "Counter(hours)"
      ],
      "metadata": {
        "colab": {
          "base_uri": "https://localhost:8080/"
        },
        "id": "wgqvxu9L8V6w",
        "outputId": "e916d749-d925-4f62-a207-0d854ac8f7b8"
      },
      "execution_count": 35,
      "outputs": [
        {
          "output_type": "execute_result",
          "data": {
            "text/plain": [
              "Counter({20: 10440,\n",
              "         24: 9546,\n",
              "         28: 8716,\n",
              "         32: 8088,\n",
              "         36: 7695,\n",
              "         40: 7294,\n",
              "         44: 6822,\n",
              "         48: 6292,\n",
              "         52: 5792,\n",
              "         56: 5456,\n",
              "         60: 5260,\n",
              "         64: 5061,\n",
              "         68: 4780,\n",
              "         72: 4466,\n",
              "         76: 4169,\n",
              "         80: 3982,\n",
              "         84: 3852,\n",
              "         88: 3739,\n",
              "         92: 3586,\n",
              "         96: 3399,\n",
              "         100: 3262,\n",
              "         104: 3101,\n",
              "         108: 3024,\n",
              "         112: 2944,\n",
              "         116: 2824,\n",
              "         120: 2703})"
            ]
          },
          "metadata": {},
          "execution_count": 35
        }
      ]
    },
    {
      "cell_type": "code",
      "source": [
        "# visualize bins\n",
        "df = pd.DataFrame.from_dict(Counter(hours), orient='index', columns=['Forecasting Observation Window Bins (Val)'])\n",
        "df.plot.bar()"
      ],
      "metadata": {
        "colab": {
          "base_uri": "https://localhost:8080/",
          "height": 291
        },
        "id": "EYhOqgeB_pRG",
        "outputId": "1649fd11-6574-4007-cb19-c660530ee8e0"
      },
      "execution_count": 45,
      "outputs": [
        {
          "output_type": "execute_result",
          "data": {
            "text/plain": [
              "<Axes: >"
            ]
          },
          "metadata": {},
          "execution_count": 45
        },
        {
          "output_type": "display_data",
          "data": {
            "text/plain": [
              "<Figure size 432x288 with 1 Axes>"
            ],
            "image/png": "[encoded data removed]"
          },
          "metadata": {
            "needs_background": "light"
          }
        }
      ]
    },
    {
      "cell_type": "code",
      "source": [
        "plt.clf()\n",
        "plt.plot(range(len(hours)), hours)\n",
        "plt.show()"
      ],
      "metadata": {
        "colab": {
          "base_uri": "https://localhost:8080/",
          "height": 265
        },
        "id": "pQpDDNXY_Q_z",
        "outputId": "4ae8864c-203d-4d3b-df6d-3c85539b1237"
      },
      "execution_count": 43,
      "outputs": [
        {
          "output_type": "display_data",
          "data": {
            "text/plain": [
              "<Figure size 432x288 with 1 Axes>"
            ],
            "image/png": "[encoded data removed]"
          },
          "metadata": {
            "needs_background": "light"
          }
        }
      ]
    },
    {
      "cell_type": "code",
      "source": [
        "len(hours)"
      ],
      "metadata": {
        "colab": {
          "base_uri": "https://localhost:8080/"
        },
        "id": "8JV6MPhj8huT",
        "outputId": "cad31da1-d8a3-4279-9d35-493352d970e8"
      },
      "execution_count": 36,
      "outputs": [
        {
          "output_type": "execute_result",
          "data": {
            "text/plain": [
              "136293"
            ]
          },
          "metadata": {},
          "execution_count": 36
        }
      ]
    },
    {
      "cell_type": "code",
      "source": [
        "len(fore_valid_ip[1])"
      ],
      "metadata": {
        "colab": {
          "base_uri": "https://localhost:8080/"
        },
        "id": "peCBfrt_8jfF",
        "outputId": "5fd4b4ab-04e5-454c-8ed8-1ebe89ca08f7"
      },
      "execution_count": 38,
      "outputs": [
        {
          "output_type": "execute_result",
          "data": {
            "text/plain": [
              "136293"
            ]
          },
          "metadata": {},
          "execution_count": 38
        }
      ]
    },
    {
      "cell_type": "markdown",
      "source": [
        "### Val input inds"
      ],
      "metadata": {
        "id": "AH0GjghBCCT4"
      }
    },
    {
      "cell_type": "code",
      "source": [
        "# get inds\n",
        "val_inds = []\n",
        "\n",
        "for ind in valid_ind:\n",
        "    val_inds.append(fore_inds[ind])"
      ],
      "metadata": {
        "id": "JHs-W3DN0T1W"
      },
      "execution_count": 29,
      "outputs": []
    },
    {
      "cell_type": "markdown",
      "source": [
        "### Val patient ids"
      ],
      "metadata": {
        "id": "5ZnaxRpUII9P"
      }
    },
    {
      "cell_type": "code",
      "source": [
        "# get patient ids\n",
        "val_patient_ids = []\n",
        "val_sepsis_labels = []\n",
        "\n",
        "# sub_ids = oc['SUBJECT_ID'].tolist()\n",
        "# ts_ind = oc['ts_ind'].tolist()\n",
        "# sepsis = oc['in_hospital_sepsis'].tolist()\n",
        "\n",
        "# for ind in val_inds:\n",
        "#    for i in range(len(sub_ids)):\n",
        "#      if ts_ind[i] == ind:\n",
        "#        val_sepsis_labels.append(sepsis[i])\n",
        "#        val_patient_ids.append(sub_ids[i])\n",
        "#        break\n",
        "\n",
        "for ind in val_inds:\n",
        "  val_sepsis_labels.append(oc[oc['ts_ind']==ind]['in_hospital_sepsis'].item())\n",
        "  val_patient_ids.append(oc[oc['ts_ind']==ind]['SUBJECT_ID'].item())"
      ],
      "metadata": {
        "id": "dRc0yviz59OV"
      },
      "execution_count": 41,
      "outputs": []
    },
    {
      "cell_type": "markdown",
      "source": [
        "### output to pkl"
      ],
      "metadata": {
        "id": "maIGu5qMz2v8"
      }
    },
    {
      "cell_type": "code",
      "source": [
        "val_data = pd.DataFrame(\n",
        "    {'ts_ind': val_inds,\n",
        "     'obs_window': hours,\n",
        "     'SUBJECT_ID': val_patient_ids,\n",
        "     'sepsis_label': val_sepsis_labels,\n",
        "     'forecasting_pred': pd.Series(valid_y_preds.tolist())\n",
        "    })"
      ],
      "metadata": {
        "id": "anwBpJGOz6Z-"
      },
      "execution_count": 42,
      "outputs": []
    },
    {
      "cell_type": "code",
      "source": [
        "val_data"
      ],
      "metadata": {
        "colab": {
          "base_uri": "https://localhost:8080/",
          "height": 424
        },
        "id": "oNLTmSUF4JFG",
        "outputId": "5f6db774-585c-45a9-a021-8071a2ddf872"
      },
      "execution_count": 43,
      "outputs": [
        {
          "output_type": "execute_result",
          "data": {
            "text/plain": [
              "        ts_ind  obs_window  SUBJECT_ID  sepsis_label  \\\n",
              "0            1          20         270             0   \n",
              "1            2          20         271             0   \n",
              "2            5          20         274             0   \n",
              "3            6          20         276             0   \n",
              "4           10          20         283             0   \n",
              "...        ...         ...         ...           ...   \n",
              "136288   56744         120       84853             0   \n",
              "136289   56898         120       12619             1   \n",
              "136290   57009         120       69375             0   \n",
              "136291   57166         120       95022             0   \n",
              "136292   57228         120       86684             1   \n",
              "\n",
              "                                         forecasting_pred  \n",
              "0       [-0.1630447655916214, 0.048375070095062256, -0...  \n",
              "1       [-0.05591287091374397, -0.3698490560054779, -0...  \n",
              "2       [-0.09906414896249771, 0.6817415952682495, -0....  \n",
              "3       [-0.5882726907730103, -0.392268568277359, -0.2...  \n",
              "4       [-0.24801766872406006, -0.20963838696479797, -...  \n",
              "...                                                   ...  \n",
              "136288  [-0.34762904047966003, -0.36281928420066833, -...  \n",
              "136289  [0.476502001285553, -0.7602043151855469, -0.63...  \n",
              "136290  [0.45679473876953125, -0.7679835557937622, -0....  \n",
              "136291  [-0.33411648869514465, -0.6584261655807495, -0...  \n",
              "136292  [0.4764782786369324, -0.7172569036483765, -0.6...  \n",
              "\n",
              "[136293 rows x 5 columns]"
            ],
            "text/html": [
              "\n",
              "  <div id=\"df-70997af2-7e8f-4f5b-8157-35a5db2d3421\">\n",
              "    <div class=\"colab-df-container\">\n",
              "      <div>\n",
              "<style scoped>\n",
              "    .dataframe tbody tr th:only-of-type {\n",
              "        vertical-align: middle;\n",
              "    }\n",
              "\n",
              "    .dataframe tbody tr th {\n",
              "        vertical-align: top;\n",
              "    }\n",
              "\n",
              "    .dataframe thead th {\n",
              "        text-align: right;\n",
              "    }\n",
              "</style>\n",
              "<table border=\"1\" class=\"dataframe\">\n",
              "  <thead>\n",
              "    <tr style=\"text-align: right;\">\n",
              "      <th></th>\n",
              "      <th>ts_ind</th>\n",
              "      <th>obs_window</th>\n",
              "      <th>SUBJECT_ID</th>\n",
              "      <th>sepsis_label</th>\n",
              "      <th>forecasting_pred</th>\n",
              "    </tr>\n",
              "  </thead>\n",
              "  <tbody>\n",
              "    <tr>\n",
              "      <th>0</th>\n",
              "      <td>1</td>\n",
              "      <td>20</td>\n",
              "      <td>270</td>\n",
              "      <td>0</td>\n",
              "      <td>[-0.1630447655916214, 0.048375070095062256, -0...</td>\n",
              "    </tr>\n",
              "    <tr>\n",
              "      <th>1</th>\n",
              "      <td>2</td>\n",
              "      <td>20</td>\n",
              "      <td>271</td>\n",
              "      <td>0</td>\n",
              "      <td>[-0.05591287091374397, -0.3698490560054779, -0...</td>\n",
              "    </tr>\n",
              "    <tr>\n",
              "      <th>2</th>\n",
              "      <td>5</td>\n",
              "      <td>20</td>\n",
              "      <td>274</td>\n",
              "      <td>0</td>\n",
              "      <td>[-0.09906414896249771, 0.6817415952682495, -0....</td>\n",
              "    </tr>\n",
              "    <tr>\n",
              "      <th>3</th>\n",
              "      <td>6</td>\n",
              "      <td>20</td>\n",
              "      <td>276</td>\n",
              "      <td>0</td>\n",
              "      <td>[-0.5882726907730103, -0.392268568277359, -0.2...</td>\n",
              "    </tr>\n",
              "    <tr>\n",
              "      <th>4</th>\n",
              "      <td>10</td>\n",
              "      <td>20</td>\n",
              "      <td>283</td>\n",
              "      <td>0</td>\n",
              "      <td>[-0.24801766872406006, -0.20963838696479797, -...</td>\n",
              "    </tr>\n",
              "    <tr>\n",
              "      <th>...</th>\n",
              "      <td>...</td>\n",
              "      <td>...</td>\n",
              "      <td>...</td>\n",
              "      <td>...</td>\n",
              "      <td>...</td>\n",
              "    </tr>\n",
              "    <tr>\n",
              "      <th>136288</th>\n",
              "      <td>56744</td>\n",
              "      <td>120</td>\n",
              "      <td>84853</td>\n",
              "      <td>0</td>\n",
              "      <td>[-0.34762904047966003, -0.36281928420066833, -...</td>\n",
              "    </tr>\n",
              "    <tr>\n",
              "      <th>136289</th>\n",
              "      <td>56898</td>\n",
              "      <td>120</td>\n",
              "      <td>12619</td>\n",
              "      <td>1</td>\n",
              "      <td>[0.476502001285553, -0.7602043151855469, -0.63...</td>\n",
              "    </tr>\n",
              "    <tr>\n",
              "      <th>136290</th>\n",
              "      <td>57009</td>\n",
              "      <td>120</td>\n",
              "      <td>69375</td>\n",
              "      <td>0</td>\n",
              "      <td>[0.45679473876953125, -0.7679835557937622, -0....</td>\n",
              "    </tr>\n",
              "    <tr>\n",
              "      <th>136291</th>\n",
              "      <td>57166</td>\n",
              "      <td>120</td>\n",
              "      <td>95022</td>\n",
              "      <td>0</td>\n",
              "      <td>[-0.33411648869514465, -0.6584261655807495, -0...</td>\n",
              "    </tr>\n",
              "    <tr>\n",
              "      <th>136292</th>\n",
              "      <td>57228</td>\n",
              "      <td>120</td>\n",
              "      <td>86684</td>\n",
              "      <td>1</td>\n",
              "      <td>[0.4764782786369324, -0.7172569036483765, -0.6...</td>\n",
              "    </tr>\n",
              "  </tbody>\n",
              "</table>\n",
              "<p>136293 rows × 5 columns</p>\n",
              "</div>\n",
              "      <button class=\"colab-df-convert\" onclick=\"convertToInteractive('df-70997af2-7e8f-4f5b-8157-35a5db2d3421')\"\n",
              "              title=\"Convert this dataframe to an interactive table.\"\n",
              "              style=\"display:none;\">\n",
              "        \n",
              "  <svg xmlns=\"http://www.w3.org/2000/svg\" height=\"24px\"viewBox=\"0 0 24 24\"\n",
              "       width=\"24px\">\n",
              "    <path d=\"M0 0h24v24H0V0z\" fill=\"none\"/>\n",
              "    <path d=\"M18.56 5.44l.94 2.06.94-2.06 2.06-.94-2.06-.94-.94-2.06-.94 2.06-2.06.94zm-11 1L8.5 8.5l.94-2.06 2.06-.94-2.06-.94L8.5 2.5l-.94 2.06-2.06.94zm10 10l.94 2.06.94-2.06 2.06-.94-2.06-.94-.94-2.06-.94 2.06-2.06.94z\"/><path d=\"M17.41 7.96l-1.37-1.37c-.4-.4-.92-.59-1.43-.59-.52 0-1.04.2-1.43.59L10.3 9.45l-7.72 7.72c-.78.78-.78 2.05 0 2.83L4 21.41c.39.39.9.59 1.41.59.51 0 1.02-.2 1.41-.59l7.78-7.78 2.81-2.81c.8-.78.8-2.07 0-2.86zM5.41 20L4 18.59l7.72-7.72 1.47 1.35L5.41 20z\"/>\n",
              "  </svg>\n",
              "      </button>\n",
              "      \n",
              "  <style>\n",
              "    .colab-df-container {\n",
              "      display:flex;\n",
              "      flex-wrap:wrap;\n",
              "      gap: 12px;\n",
              "    }\n",
              "\n",
              "    .colab-df-convert {\n",
              "      background-color: #E8F0FE;\n",
              "      border: none;\n",
              "      border-radius: 50%;\n",
              "      cursor: pointer;\n",
              "      display: none;\n",
              "      fill: #1967D2;\n",
              "      height: 32px;\n",
              "      padding: 0 0 0 0;\n",
              "      width: 32px;\n",
              "    }\n",
              "\n",
              "    .colab-df-convert:hover {\n",
              "      background-color: #E2EBFA;\n",
              "      box-shadow: 0px 1px 2px rgba(60, 64, 67, 0.3), 0px 1px 3px 1px rgba(60, 64, 67, 0.15);\n",
              "      fill: #174EA6;\n",
              "    }\n",
              "\n",
              "    [theme=dark] .colab-df-convert {\n",
              "      background-color: #3B4455;\n",
              "      fill: #D2E3FC;\n",
              "    }\n",
              "\n",
              "    [theme=dark] .colab-df-convert:hover {\n",
              "      background-color: #434B5C;\n",
              "      box-shadow: 0px 1px 3px 1px rgba(0, 0, 0, 0.15);\n",
              "      filter: drop-shadow(0px 1px 2px rgba(0, 0, 0, 0.3));\n",
              "      fill: #FFFFFF;\n",
              "    }\n",
              "  </style>\n",
              "\n",
              "      <script>\n",
              "        const buttonEl =\n",
              "          document.querySelector('#df-70997af2-7e8f-4f5b-8157-35a5db2d3421 button.colab-df-convert');\n",
              "        buttonEl.style.display =\n",
              "          google.colab.kernel.accessAllowed ? 'block' : 'none';\n",
              "\n",
              "        async function convertToInteractive(key) {\n",
              "          const element = document.querySelector('#df-70997af2-7e8f-4f5b-8157-35a5db2d3421');\n",
              "          const dataTable =\n",
              "            await google.colab.kernel.invokeFunction('convertToInteractive',\n",
              "                                                     [key], {});\n",
              "          if (!dataTable) return;\n",
              "\n",
              "          const docLinkHtml = 'Like what you see? Visit the ' +\n",
              "            '<a target=\"_blank\" href=https://colab.research.google.com/notebooks/data_table.ipynb>data table notebook</a>'\n",
              "            + ' to learn more about interactive tables.';\n",
              "          element.innerHTML = '';\n",
              "          dataTable['output_type'] = 'display_data';\n",
              "          await google.colab.output.renderOutput(dataTable, element);\n",
              "          const docLink = document.createElement('div');\n",
              "          docLink.innerHTML = docLinkHtml;\n",
              "          element.appendChild(docLink);\n",
              "        }\n",
              "      </script>\n",
              "    </div>\n",
              "  </div>\n",
              "  "
            ]
          },
          "metadata": {},
          "execution_count": 43
        }
      ]
    },
    {
      "cell_type": "code",
      "source": [
        "# dump to pkl\n",
        "pickle.dump([val_data, var_to_ind], open('forecasting_preds_val.pkl','wb'))"
      ],
      "metadata": {
        "id": "nj7VrIIl9YXU"
      },
      "execution_count": 44,
      "outputs": []
    },
    {
      "cell_type": "code",
      "source": [
        "# val_data, var_to_ind = pickle.load(open('/content/forecasting_preds_val.pkl', 'rb'))"
      ],
      "metadata": {
        "id": "Uk4VkrJp9tW2"
      },
      "execution_count": 45,
      "outputs": []
    },
    {
      "cell_type": "markdown",
      "source": [
        "## Test"
      ],
      "metadata": {
        "id": "bbYsD4V556kT"
      }
    },
    {
      "cell_type": "markdown",
      "source": [
        "### Load data"
      ],
      "metadata": {
        "id": "yPjSzsk_EAuJ"
      }
    },
    {
      "cell_type": "code",
      "source": [
        "! unzip /content/drive/MyDrive/sepsis/strats_exp/data/sepsis_data/pre_text/sepsis_pretext_large_processed.pkl.zip"
      ],
      "metadata": {
        "colab": {
          "base_uri": "https://localhost:8080/"
        },
        "id": "owtckEgtGAkD",
        "outputId": "f6b8130a-eebe-4f5d-eb25-2a9e80966e51"
      },
      "execution_count": 6,
      "outputs": [
        {
          "output_type": "stream",
          "name": "stdout",
          "text": [
            "Archive:  /content/drive/MyDrive/sepsis/strats_exp/data/sepsis_data/pre_text/sepsis_pretext_large_processed.pkl.zip\n",
            "  inflating: content/sepsis_pretext_large_processed.pkl  \n"
          ]
        }
      ]
    },
    {
      "cell_type": "code",
      "source": [
        "# load data from new pkl \n",
        "data, oc, train_ind, valid_ind, test_ind = pickle.load(open('/content/content/sepsis_pretext_large_processed.pkl', 'rb'))"
      ],
      "metadata": {
        "id": "q14R4yFy-jCp"
      },
      "execution_count": 7,
      "outputs": []
    },
    {
      "cell_type": "markdown",
      "source": [
        "### Load test data into matrices"
      ],
      "metadata": {
        "id": "Sfu0I5Q4ECl-"
      }
    },
    {
      "cell_type": "code",
      "source": [
        "pred_window = 2 # hours\n",
        "obs_windows = range(20, 124, 4)\n",
        "\n",
        "# Remove train, val patients\n",
        "data = data.merge(oc[['ts_ind', 'SUBJECT_ID']], on='ts_ind', how='left')\n",
        "train_sub = oc.loc[oc.ts_ind.isin(train_ind)].SUBJECT_ID.unique()\n",
        "valid_sub = oc.loc[oc.ts_ind.isin(valid_ind)].SUBJECT_ID.unique()\n",
        "data = data.loc[~data.SUBJECT_ID.isin(train_sub)]\n",
        "data = data.loc[~data.SUBJECT_ID.isin(valid_sub)]\n",
        "oc = oc.loc[~oc.SUBJECT_ID.isin(train_sub)]\n",
        "oc = oc.loc[~oc.SUBJECT_ID.isin(valid_sub)]\n",
        "\n",
        "data.drop(columns=['SUBJECT_ID', 'TABLE'], inplace=True)\n",
        "# Fix age.\n",
        "data.loc[(data.variable=='Age')&(data.value>200), 'value'] = 91.4\n",
        "# Get static data with mean fill and missingness indicator.\n",
        "static_varis = ['Age', 'Gender']\n",
        "ii = data.variable.isin(static_varis)\n",
        "static_data = data.loc[ii]\n",
        "data = data.loc[~ii]\n",
        "def inv_list(l, start=0):\n",
        "    d = {}\n",
        "    for i in range(len(l)):\n",
        "        d[l[i]] = i+start\n",
        "    return d\n",
        "static_var_to_ind = inv_list(static_varis)\n",
        "D = len(static_varis)\n",
        "N = data.ts_ind.max()+1\n",
        "demo = np.zeros((N, D))\n",
        "for row in tqdm(static_data.itertuples()):\n",
        "    demo[row.ts_ind, static_var_to_ind[row.variable]] = row.value\n",
        "# Normalize static data.\n",
        "means = demo.mean(axis=0, keepdims=True)\n",
        "stds = demo.std(axis=0, keepdims=True)\n",
        "stds = (stds==0)*1 + (stds!=0)*stds\n",
        "demo = (demo-means)/stds\n",
        "\n",
        "# Get variable indices.\n",
        "varis = sorted(list(set(data.variable)))\n",
        "V = len(varis)\n",
        "var_to_ind = inv_list(varis, start=1)\n",
        "data['vind'] = data.variable.map(var_to_ind)\n",
        "data = data[['ts_ind', 'vind', 'hour', 'value']].sort_values(by=['ts_ind', 'vind', 'hour'])\n",
        "# Find max_len.\n",
        "fore_max_len = 880\n",
        "# Get forecast inputs and outputs.\n",
        "fore_times_ip = []\n",
        "fore_values_ip = []\n",
        "fore_varis_ip = []\n",
        "fore_op = []\n",
        "fore_inds = []\n",
        "def f(x):\n",
        "    mask = [0 for i in range(V)]\n",
        "    values = [0 for i in range(V)]\n",
        "    for vv in x:\n",
        "        v = int(vv[0])-1\n",
        "        mask[v] = 1\n",
        "        values[v] = vv[1]\n",
        "    return values+mask\n",
        "def pad(x):\n",
        "    return x+[0]*(fore_max_len-len(x))"
      ],
      "metadata": {
        "colab": {
          "base_uri": "https://localhost:8080/"
        },
        "id": "HKK7sW-455hs",
        "outputId": "c637236a-199d-4e54-90e5-2d38698a359d"
      },
      "execution_count": 10,
      "outputs": [
        {
          "output_type": "stream",
          "name": "stderr",
          "text": [
            "22938it [00:00, 303421.68it/s]\n"
          ]
        }
      ]
    },
    {
      "cell_type": "code",
      "source": [
        "for w in tqdm(obs_windows):\n",
        "    pred_data = data.loc[(data.hour>=w)&(data.hour<=w+pred_window)]\n",
        "    pred_data = pred_data.groupby(['ts_ind', 'vind']).agg({'value':'first'}).reset_index()\n",
        "    pred_data['vind_value'] = pred_data[['vind', 'value']].values.tolist()\n",
        "    pred_data = pred_data.groupby('ts_ind').agg({'vind_value':list}).reset_index()\n",
        "    pred_data['vind_value'] = pred_data['vind_value'].apply(f)    \n",
        "    obs_data = data.loc[(data.hour<w)&(data.hour>=w-24)]\n",
        "    obs_data = obs_data.loc[obs_data.ts_ind.isin(pred_data.ts_ind)]\n",
        "    obs_data = obs_data.groupby('ts_ind').head(fore_max_len)\n",
        "    obs_data = obs_data.groupby('ts_ind').agg({'vind':list, 'hour':list, 'value':list}).reset_index()\n",
        "    obs_data = obs_data.merge(pred_data, on='ts_ind')\n",
        "    for col in ['vind', 'hour', 'value']:\n",
        "        obs_data[col] = obs_data[col].apply(pad)\n",
        "    fore_op.append(np.array(list(obs_data.vind_value)))\n",
        "    fore_inds.append(np.array(list(obs_data.ts_ind)))\n",
        "    fore_times_ip.append(np.array(list(obs_data.hour)))\n",
        "    fore_values_ip.append(np.array(list(obs_data.value)))\n",
        "    fore_varis_ip.append(np.array(list(obs_data.vind)))"
      ],
      "metadata": {
        "colab": {
          "base_uri": "https://localhost:8080/"
        },
        "id": "8SXi_7cMPNiW",
        "outputId": "3c6f2a78-3f39-40af-ee2a-8cb896c1798b"
      },
      "execution_count": 11,
      "outputs": [
        {
          "output_type": "stream",
          "name": "stderr",
          "text": [
            "100%|██████████| 26/26 [01:21<00:00,  3.15s/it]\n"
          ]
        }
      ]
    },
    {
      "cell_type": "code",
      "source": [
        "del data\n",
        "fore_times_ip = np.concatenate(fore_times_ip, axis=0)\n",
        "fore_values_ip = np.concatenate(fore_values_ip, axis=0)\n",
        "fore_varis_ip = np.concatenate(fore_varis_ip, axis=0)\n",
        "fore_op = np.concatenate(fore_op, axis=0)\n",
        "fore_inds = np.concatenate(fore_inds, axis=0)\n",
        "fore_demo = demo[fore_inds]"
      ],
      "metadata": {
        "id": "yscwsJmCPX1l"
      },
      "execution_count": 12,
      "outputs": []
    },
    {
      "cell_type": "code",
      "source": [
        "# # Get train and valid ts_ind for forecast task.\n",
        "# test_sub = oc.loc[oc.ts_ind.isin(test_ind)].SUBJECT_ID.unique()\n",
        "# rem_sub = oc.loc[~oc.SUBJECT_ID.isin(test_ind)].SUBJECT_ID.unique()\n",
        "# bp = int(0.8*len(rem_sub))\n",
        "# test_sub = np.concatenate((test_sub, rem_sub[:bp]))\n",
        "# test_ind = oc.loc[oc.SUBJECT_ID.isin(test_sub)].ts_ind.unique() "
      ],
      "metadata": {
        "id": "1d_iYQbqP-y_"
      },
      "execution_count": 46,
      "outputs": []
    },
    {
      "cell_type": "code",
      "source": [
        "fore_test_ip = [fore_demo, fore_times_ip, fore_values_ip, fore_varis_ip]\n",
        "fore_test_op = fore_op"
      ],
      "metadata": {
        "id": "sOr5nkiqQEEp"
      },
      "execution_count": 13,
      "outputs": []
    },
    {
      "cell_type": "code",
      "source": [
        "# release RAM\n",
        "del fore_times_ip, fore_values_ip, fore_varis_ip, demo, fore_demo"
      ],
      "metadata": {
        "id": "FIh9XLKT-x3m"
      },
      "execution_count": 14,
      "outputs": []
    },
    {
      "cell_type": "markdown",
      "source": [
        "### get test `y_preds`"
      ],
      "metadata": {
        "id": "ovxJ-7-yEG0I"
      }
    },
    {
      "cell_type": "code",
      "source": [
        "fore_savepath = 'mimic_iii_24h_strats_no_interp_with_ss_fore.h5'\n",
        "\n",
        "lr, batch_size, samples_per_epoch, patience = 0.0005, 32, 102400, 5\n",
        "d, N, he, dropout = 50, 2, 4, 0.2\n",
        "model, fore_model =  build_strats(D, fore_max_len, V, d, N, he, dropout, forecast=True)\n",
        "# print(fore_model.summary())\n",
        "fore_model.compile(loss=forecast_loss, optimizer=Adam(lr))\n",
        "fore_model.load_weights(fore_savepath)\n",
        "\n",
        "test_y_preds = fore_model.predict(fore_test_ip)"
      ],
      "metadata": {
        "colab": {
          "base_uri": "https://localhost:8080/"
        },
        "id": "xvz1y8m--5HK",
        "outputId": "07ce8037-8437-4878-f361-87e502f5dcee"
      },
      "execution_count": 53,
      "outputs": [
        {
          "output_type": "stream",
          "name": "stdout",
          "text": [
            "4104/4104 [==============================] - 41s 10ms/step\n"
          ]
        }
      ]
    },
    {
      "cell_type": "markdown",
      "source": [
        "### `var_to_ind` mapping"
      ],
      "metadata": {
        "id": "s5X90MM8AykJ"
      }
    },
    {
      "cell_type": "code",
      "source": [
        "var_to_ind"
      ],
      "metadata": {
        "colab": {
          "base_uri": "https://localhost:8080/"
        },
        "id": "q4y5phcjA2CB",
        "outputId": "4f2d4fd6-9eaa-40da-b0ee-a4594b0221d7"
      },
      "execution_count": 56,
      "outputs": [
        {
          "output_type": "execute_result",
          "data": {
            "text/plain": [
              "{'ALP': 1,\n",
              " 'ALT': 2,\n",
              " 'AST': 3,\n",
              " 'Albumin': 4,\n",
              " 'Albumin 25%': 5,\n",
              " 'Albumin 5%': 6,\n",
              " 'Amiodarone': 7,\n",
              " 'Anion Gap': 8,\n",
              " 'Antibiotics': 9,\n",
              " 'BUN': 10,\n",
              " 'Base Excess': 11,\n",
              " 'Basophils': 12,\n",
              " 'Bicarbonate': 13,\n",
              " 'Bilirubin (Direct)': 14,\n",
              " 'Bilirubin (Indirect)': 15,\n",
              " 'Bilirubin (Total)': 16,\n",
              " 'Blood Culture': 17,\n",
              " 'CRR': 18,\n",
              " 'Calcium Free': 19,\n",
              " 'Calcium Gluconate': 20,\n",
              " 'Calcium Total': 21,\n",
              " 'Cefazolin': 22,\n",
              " 'Chest Tube': 23,\n",
              " 'Chloride': 24,\n",
              " 'Colloid': 25,\n",
              " 'Creatinine Blood': 26,\n",
              " 'Creatinine Urine': 27,\n",
              " 'D5W': 28,\n",
              " 'DBP': 29,\n",
              " 'Dextrose Other': 30,\n",
              " 'Dopamine': 31,\n",
              " 'EBL': 32,\n",
              " 'Emesis': 33,\n",
              " 'Eoisinophils': 34,\n",
              " 'Epinephrine': 35,\n",
              " 'Famotidine': 36,\n",
              " 'Fentanyl': 37,\n",
              " 'FiO2': 38,\n",
              " 'Fiber': 39,\n",
              " 'Free Water': 40,\n",
              " 'Fresh Frozen Plasma': 41,\n",
              " 'Furosemide': 42,\n",
              " 'GCS_eye': 43,\n",
              " 'GCS_motor': 44,\n",
              " 'GCS_verbal': 45,\n",
              " 'GT Flush': 46,\n",
              " 'Gastric': 47,\n",
              " 'Gastric Meds': 48,\n",
              " 'Glucose (Blood)': 49,\n",
              " 'Glucose (Serum)': 50,\n",
              " 'Glucose (Whole Blood)': 51,\n",
              " 'HR': 52,\n",
              " 'Half Normal Saline': 53,\n",
              " 'Hct': 54,\n",
              " 'Height': 55,\n",
              " 'Heparin': 56,\n",
              " 'Hgb': 57,\n",
              " 'Hydralazine': 58,\n",
              " 'Hydromorphone': 59,\n",
              " 'INR': 60,\n",
              " 'Insulin Humalog': 61,\n",
              " 'Insulin NPH': 62,\n",
              " 'Insulin Regular': 63,\n",
              " 'Insulin largine': 64,\n",
              " 'Intubated': 65,\n",
              " 'Jackson-Pratt': 66,\n",
              " 'KCl': 67,\n",
              " 'KCl (Bolus)': 68,\n",
              " 'LDH': 69,\n",
              " 'Lactate': 70,\n",
              " 'Lactated Ringers': 71,\n",
              " 'Levofloxacin': 72,\n",
              " 'Lorazepam': 73,\n",
              " 'Lymphocytes': 74,\n",
              " 'Lymphocytes (Absolute)': 75,\n",
              " 'MBP': 76,\n",
              " 'MCH': 77,\n",
              " 'MCHC': 78,\n",
              " 'MCV': 79,\n",
              " 'Magnesium': 80,\n",
              " 'Magnesium Sulfate (Bolus)': 81,\n",
              " 'Magnesium Sulphate': 82,\n",
              " 'Mechanically ventilated': 83,\n",
              " 'Metoprolol': 84,\n",
              " 'Midazolam': 85,\n",
              " 'Milrinone': 86,\n",
              " 'Monocytes': 87,\n",
              " 'Morphine Sulfate': 88,\n",
              " 'Neosynephrine': 89,\n",
              " 'Neutrophils': 90,\n",
              " 'Nitroglycerine': 91,\n",
              " 'Nitroprusside': 92,\n",
              " 'Norepinephrine': 93,\n",
              " 'Normal Saline': 94,\n",
              " 'O2 Saturation': 95,\n",
              " 'OR/PACU Crystalloid': 96,\n",
              " 'PCO2': 97,\n",
              " 'PO intake': 98,\n",
              " 'PO2': 99,\n",
              " 'PT': 100,\n",
              " 'PTT': 101,\n",
              " 'Packed RBC': 102,\n",
              " 'Pantoprazole': 103,\n",
              " 'Phosphate': 104,\n",
              " 'Piggyback': 105,\n",
              " 'Piperacillin': 106,\n",
              " 'Platelet Count': 107,\n",
              " 'Potassium': 108,\n",
              " 'Pre-admission Intake': 109,\n",
              " 'Pre-admission Output': 110,\n",
              " 'Propofol': 111,\n",
              " 'RBC': 112,\n",
              " 'RDW': 113,\n",
              " 'RR': 114,\n",
              " 'Residual': 115,\n",
              " 'SBP': 116,\n",
              " 'SG Urine': 117,\n",
              " 'Sodium': 118,\n",
              " 'Solution': 119,\n",
              " 'Sterile Water': 120,\n",
              " 'Stool': 121,\n",
              " 'TPN': 122,\n",
              " 'Temperature': 123,\n",
              " 'Total CO2': 124,\n",
              " 'Ultrafiltrate': 125,\n",
              " 'Unknown': 126,\n",
              " 'Urine': 127,\n",
              " 'Vancomycin': 128,\n",
              " 'Vasopressin': 129,\n",
              " 'WBC': 130,\n",
              " 'Weight': 131,\n",
              " 'pH Blood': 132,\n",
              " 'pH Urine': 133}"
            ]
          },
          "metadata": {},
          "execution_count": 56
        }
      ]
    },
    {
      "cell_type": "markdown",
      "source": [
        "### Test input observation windows"
      ],
      "metadata": {
        "id": "rsAxBVkgAuW3"
      }
    },
    {
      "cell_type": "code",
      "source": [
        "hours = []\n",
        "max_hours = []\n",
        "# get hours\n",
        "for time in fore_test_ip[1]:\n",
        "  hour = max(time)\n",
        "  max_hours.append(hour)\n",
        "  \n",
        "  for obs_window in obs_windows:\n",
        "    if hour < obs_window:\n",
        "      hour = obs_window\n",
        "      break\n",
        "  \n",
        "  hours.append(hour)"
      ],
      "metadata": {
        "id": "YEw_T-QGoFcZ"
      },
      "execution_count": 54,
      "outputs": []
    },
    {
      "cell_type": "code",
      "source": [
        "# visualization \n",
        "df = pd.DataFrame.from_dict(Counter(hours), orient='index', columns=['Forecasting Observation Window Bins (Test)'])\n",
        "df.plot.bar()"
      ],
      "metadata": {
        "colab": {
          "base_uri": "https://localhost:8080/",
          "height": 292
        },
        "id": "pS0HlQAaoC92",
        "outputId": "679485f6-e17f-4557-c4bf-9776d001364e"
      },
      "execution_count": 79,
      "outputs": [
        {
          "output_type": "execute_result",
          "data": {
            "text/plain": [
              "<Axes: >"
            ]
          },
          "metadata": {},
          "execution_count": 79
        },
        {
          "output_type": "display_data",
          "data": {
            "text/plain": [
              "<Figure size 432x288 with 1 Axes>"
            ],
            "image/png": "[encoded data removed]"
          },
          "metadata": {
            "needs_background": "light"
          }
        }
      ]
    },
    {
      "cell_type": "code",
      "source": [
        "import matplotlib.pyplot as plt\n",
        "\n",
        "plt.plot(range(len(max_hours)), max_hours)\n",
        "plt.show()"
      ],
      "metadata": {
        "colab": {
          "base_uri": "https://localhost:8080/",
          "height": 265
        },
        "id": "ZhPFVDvIsCzP",
        "outputId": "fb643677-e009-459c-b44c-6cebd96548d5"
      },
      "execution_count": 80,
      "outputs": [
        {
          "output_type": "display_data",
          "data": {
            "text/plain": [
              "<Figure size 432x288 with 1 Axes>"
            ],
            "image/png": "[encoded data removed]"
          },
          "metadata": {
            "needs_background": "light"
          }
        }
      ]
    },
    {
      "cell_type": "markdown",
      "source": [
        "### patient ids, sepsis labels"
      ],
      "metadata": {
        "id": "OtslJ4tuD7NV"
      }
    },
    {
      "cell_type": "code",
      "source": [
        "# get patient ids\n",
        "test_patient_ids = []\n",
        "test_sepsis_labels = []\n",
        "\n",
        "# sub_ids = oc['SUBJECT_ID'].tolist()\n",
        "# ts_ind = oc['ts_ind'].tolist()\n",
        "# sepsis = oc['in_hospital_sepsis'].tolist()\n",
        "\n",
        "# for ind in val_inds:\n",
        "#    for i in range(len(sub_ids)):\n",
        "#      if ts_ind[i] == ind:\n",
        "#        val_sepsis_labels.append(sepsis[i])\n",
        "#        val_patient_ids.append(sub_ids[i])\n",
        "#        break\n",
        "\n",
        "for ind in fore_inds:\n",
        "  test_sepsis_labels.append(oc[oc['ts_ind']==ind]['in_hospital_sepsis'].item())\n",
        "  test_patient_ids.append(oc[oc['ts_ind']==ind]['SUBJECT_ID'].item())"
      ],
      "metadata": {
        "id": "o76JpXf9D6iJ"
      },
      "execution_count": 57,
      "outputs": []
    },
    {
      "cell_type": "markdown",
      "source": [
        "### output to pkl"
      ],
      "metadata": {
        "id": "ZDZ_Lg3zEamZ"
      }
    },
    {
      "cell_type": "code",
      "source": [
        "test_data = pd.DataFrame(\n",
        "    {'ts_ind': fore_inds,\n",
        "     'obs_window': hours,\n",
        "     'SUBJECT_ID': test_patient_ids,\n",
        "     'sepsis_label': test_sepsis_labels,\n",
        "     'forecasting_pred': pd.Series(test_y_preds.tolist()),\n",
        "     'forecasting_test_op': pd.Series(fore_op.tolist())\n",
        "    })"
      ],
      "metadata": {
        "id": "c7MMTyvAEaDJ"
      },
      "execution_count": 60,
      "outputs": []
    },
    {
      "cell_type": "code",
      "source": [
        "test_data"
      ],
      "metadata": {
        "colab": {
          "base_uri": "https://localhost:8080/",
          "height": 424
        },
        "id": "z8KDW8G1JQDH",
        "outputId": "da355acf-decd-4988-a359-9f12fc054542"
      },
      "execution_count": 70,
      "outputs": [
        {
          "output_type": "execute_result",
          "data": {
            "text/plain": [
              "        ts_ind  obs_window  SUBJECT_ID  sepsis_label  \\\n",
              "0            3          20         272             0   \n",
              "1            7          20         279             1   \n",
              "2            9          20         281             0   \n",
              "3           32          20         306             0   \n",
              "4           37          20         310             0   \n",
              "...        ...         ...         ...           ...   \n",
              "131316   55274         120       43098             0   \n",
              "131317   55441         120       58826             1   \n",
              "131318   56391         120       23560             1   \n",
              "131319   56406         120       48388             1   \n",
              "131320   56712         120        7509             0   \n",
              "\n",
              "                                         forecasting_pred  \\\n",
              "0       [-0.7563478350639343, -0.2769825756549835, -0....   \n",
              "1       [0.3193117380142212, -0.22587063908576965, -0....   \n",
              "2       [0.47262197732925415, -0.5889627933502197, -0....   \n",
              "3       [-0.2669658064842224, -0.2691204249858856, 0.1...   \n",
              "4       [-0.31633082032203674, -0.21901646256446838, -...   \n",
              "...                                                   ...   \n",
              "131316  [-0.38975512981414795, -0.6735785007476807, -0...   \n",
              "131317  [0.4758621156215668, -0.8170661926269531, -0.6...   \n",
              "131318  [0.4496254026889801, -0.8427609205245972, -0.6...   \n",
              "131319  [0.47397905588150024, -0.8081768751144409, -0....   \n",
              "131320  [0.478007048368454, -0.8025604486465454, -0.63...   \n",
              "\n",
              "                                      forecasting_test_op  \n",
              "0       [0.0, 0.0, 0.0, 0.0, 0.0, 0.0, 0.0, 0.0, 0.0, ...  \n",
              "1       [0.0, 0.0, 0.0, 0.0, 0.0, 0.0, 0.0, 0.0, 0.0, ...  \n",
              "2       [0.0, 0.0, 0.0, 0.0, 0.0, 0.0, 0.0, 0.0, 0.0, ...  \n",
              "3       [0.0, 0.0, 0.0, 0.0, 0.0, 0.0, 0.0, 0.0, 0.0, ...  \n",
              "4       [0.0, 0.0, 0.0, 0.0, 0.0, 0.0, 0.0, 0.0, 0.0, ...  \n",
              "...                                                   ...  \n",
              "131316  [0.0, 0.0, 0.0, 0.0, 0.0, 0.0, 0.0, 0.0, 0.0, ...  \n",
              "131317  [0.0, 0.0, 0.0, 0.0, 0.0, 0.0, 0.0, 0.0, 1.0, ...  \n",
              "131318  [0.0, 0.0, 0.0, 0.0, 0.0, 0.0, 0.0, 0.0, 1.0, ...  \n",
              "131319  [0.0, 0.0, 0.0, 0.0, 0.0, 0.0, 0.0, 0.0, 1.0, ...  \n",
              "131320  [0.0, 0.0, 0.0, 0.0, 0.0, 0.0, 0.0, 0.0, 1.0, ...  \n",
              "\n",
              "[131321 rows x 6 columns]"
            ],
            "text/html": [
              "\n",
              "  <div id=\"df-aa74b65d-ef66-4dc4-8e92-69b0b1d6bab3\">\n",
              "    <div class=\"colab-df-container\">\n",
              "      <div>\n",
              "<style scoped>\n",
              "    .dataframe tbody tr th:only-of-type {\n",
              "        vertical-align: middle;\n",
              "    }\n",
              "\n",
              "    .dataframe tbody tr th {\n",
              "        vertical-align: top;\n",
              "    }\n",
              "\n",
              "    .dataframe thead th {\n",
              "        text-align: right;\n",
              "    }\n",
              "</style>\n",
              "<table border=\"1\" class=\"dataframe\">\n",
              "  <thead>\n",
              "    <tr style=\"text-align: right;\">\n",
              "      <th></th>\n",
              "      <th>ts_ind</th>\n",
              "      <th>obs_window</th>\n",
              "      <th>SUBJECT_ID</th>\n",
              "      <th>sepsis_label</th>\n",
              "      <th>forecasting_pred</th>\n",
              "      <th>forecasting_test_op</th>\n",
              "    </tr>\n",
              "  </thead>\n",
              "  <tbody>\n",
              "    <tr>\n",
              "      <th>0</th>\n",
              "      <td>3</td>\n",
              "      <td>20</td>\n",
              "      <td>272</td>\n",
              "      <td>0</td>\n",
              "      <td>[-0.7563478350639343, -0.2769825756549835, -0....</td>\n",
              "      <td>[0.0, 0.0, 0.0, 0.0, 0.0, 0.0, 0.0, 0.0, 0.0, ...</td>\n",
              "    </tr>\n",
              "    <tr>\n",
              "      <th>1</th>\n",
              "      <td>7</td>\n",
              "      <td>20</td>\n",
              "      <td>279</td>\n",
              "      <td>1</td>\n",
              "      <td>[0.3193117380142212, -0.22587063908576965, -0....</td>\n",
              "      <td>[0.0, 0.0, 0.0, 0.0, 0.0, 0.0, 0.0, 0.0, 0.0, ...</td>\n",
              "    </tr>\n",
              "    <tr>\n",
              "      <th>2</th>\n",
              "      <td>9</td>\n",
              "      <td>20</td>\n",
              "      <td>281</td>\n",
              "      <td>0</td>\n",
              "      <td>[0.47262197732925415, -0.5889627933502197, -0....</td>\n",
              "      <td>[0.0, 0.0, 0.0, 0.0, 0.0, 0.0, 0.0, 0.0, 0.0, ...</td>\n",
              "    </tr>\n",
              "    <tr>\n",
              "      <th>3</th>\n",
              "      <td>32</td>\n",
              "      <td>20</td>\n",
              "      <td>306</td>\n",
              "      <td>0</td>\n",
              "      <td>[-0.2669658064842224, -0.2691204249858856, 0.1...</td>\n",
              "      <td>[0.0, 0.0, 0.0, 0.0, 0.0, 0.0, 0.0, 0.0, 0.0, ...</td>\n",
              "    </tr>\n",
              "    <tr>\n",
              "      <th>4</th>\n",
              "      <td>37</td>\n",
              "      <td>20</td>\n",
              "      <td>310</td>\n",
              "      <td>0</td>\n",
              "      <td>[-0.31633082032203674, -0.21901646256446838, -...</td>\n",
              "      <td>[0.0, 0.0, 0.0, 0.0, 0.0, 0.0, 0.0, 0.0, 0.0, ...</td>\n",
              "    </tr>\n",
              "    <tr>\n",
              "      <th>...</th>\n",
              "      <td>...</td>\n",
              "      <td>...</td>\n",
              "      <td>...</td>\n",
              "      <td>...</td>\n",
              "      <td>...</td>\n",
              "      <td>...</td>\n",
              "    </tr>\n",
              "    <tr>\n",
              "      <th>131316</th>\n",
              "      <td>55274</td>\n",
              "      <td>120</td>\n",
              "      <td>43098</td>\n",
              "      <td>0</td>\n",
              "      <td>[-0.38975512981414795, -0.6735785007476807, -0...</td>\n",
              "      <td>[0.0, 0.0, 0.0, 0.0, 0.0, 0.0, 0.0, 0.0, 0.0, ...</td>\n",
              "    </tr>\n",
              "    <tr>\n",
              "      <th>131317</th>\n",
              "      <td>55441</td>\n",
              "      <td>120</td>\n",
              "      <td>58826</td>\n",
              "      <td>1</td>\n",
              "      <td>[0.4758621156215668, -0.8170661926269531, -0.6...</td>\n",
              "      <td>[0.0, 0.0, 0.0, 0.0, 0.0, 0.0, 0.0, 0.0, 1.0, ...</td>\n",
              "    </tr>\n",
              "    <tr>\n",
              "      <th>131318</th>\n",
              "      <td>56391</td>\n",
              "      <td>120</td>\n",
              "      <td>23560</td>\n",
              "      <td>1</td>\n",
              "      <td>[0.4496254026889801, -0.8427609205245972, -0.6...</td>\n",
              "      <td>[0.0, 0.0, 0.0, 0.0, 0.0, 0.0, 0.0, 0.0, 1.0, ...</td>\n",
              "    </tr>\n",
              "    <tr>\n",
              "      <th>131319</th>\n",
              "      <td>56406</td>\n",
              "      <td>120</td>\n",
              "      <td>48388</td>\n",
              "      <td>1</td>\n",
              "      <td>[0.47397905588150024, -0.8081768751144409, -0....</td>\n",
              "      <td>[0.0, 0.0, 0.0, 0.0, 0.0, 0.0, 0.0, 0.0, 1.0, ...</td>\n",
              "    </tr>\n",
              "    <tr>\n",
              "      <th>131320</th>\n",
              "      <td>56712</td>\n",
              "      <td>120</td>\n",
              "      <td>7509</td>\n",
              "      <td>0</td>\n",
              "      <td>[0.478007048368454, -0.8025604486465454, -0.63...</td>\n",
              "      <td>[0.0, 0.0, 0.0, 0.0, 0.0, 0.0, 0.0, 0.0, 1.0, ...</td>\n",
              "    </tr>\n",
              "  </tbody>\n",
              "</table>\n",
              "<p>131321 rows × 6 columns</p>\n",
              "</div>\n",
              "      <button class=\"colab-df-convert\" onclick=\"convertToInteractive('df-aa74b65d-ef66-4dc4-8e92-69b0b1d6bab3')\"\n",
              "              title=\"Convert this dataframe to an interactive table.\"\n",
              "              style=\"display:none;\">\n",
              "        \n",
              "  <svg xmlns=\"http://www.w3.org/2000/svg\" height=\"24px\"viewBox=\"0 0 24 24\"\n",
              "       width=\"24px\">\n",
              "    <path d=\"M0 0h24v24H0V0z\" fill=\"none\"/>\n",
              "    <path d=\"M18.56 5.44l.94 2.06.94-2.06 2.06-.94-2.06-.94-.94-2.06-.94 2.06-2.06.94zm-11 1L8.5 8.5l.94-2.06 2.06-.94-2.06-.94L8.5 2.5l-.94 2.06-2.06.94zm10 10l.94 2.06.94-2.06 2.06-.94-2.06-.94-.94-2.06-.94 2.06-2.06.94z\"/><path d=\"M17.41 7.96l-1.37-1.37c-.4-.4-.92-.59-1.43-.59-.52 0-1.04.2-1.43.59L10.3 9.45l-7.72 7.72c-.78.78-.78 2.05 0 2.83L4 21.41c.39.39.9.59 1.41.59.51 0 1.02-.2 1.41-.59l7.78-7.78 2.81-2.81c.8-.78.8-2.07 0-2.86zM5.41 20L4 18.59l7.72-7.72 1.47 1.35L5.41 20z\"/>\n",
              "  </svg>\n",
              "      </button>\n",
              "      \n",
              "  <style>\n",
              "    .colab-df-container {\n",
              "      display:flex;\n",
              "      flex-wrap:wrap;\n",
              "      gap: 12px;\n",
              "    }\n",
              "\n",
              "    .colab-df-convert {\n",
              "      background-color: #E8F0FE;\n",
              "      border: none;\n",
              "      border-radius: 50%;\n",
              "      cursor: pointer;\n",
              "      display: none;\n",
              "      fill: #1967D2;\n",
              "      height: 32px;\n",
              "      padding: 0 0 0 0;\n",
              "      width: 32px;\n",
              "    }\n",
              "\n",
              "    .colab-df-convert:hover {\n",
              "      background-color: #E2EBFA;\n",
              "      box-shadow: 0px 1px 2px rgba(60, 64, 67, 0.3), 0px 1px 3px 1px rgba(60, 64, 67, 0.15);\n",
              "      fill: #174EA6;\n",
              "    }\n",
              "\n",
              "    [theme=dark] .colab-df-convert {\n",
              "      background-color: #3B4455;\n",
              "      fill: #D2E3FC;\n",
              "    }\n",
              "\n",
              "    [theme=dark] .colab-df-convert:hover {\n",
              "      background-color: #434B5C;\n",
              "      box-shadow: 0px 1px 3px 1px rgba(0, 0, 0, 0.15);\n",
              "      filter: drop-shadow(0px 1px 2px rgba(0, 0, 0, 0.3));\n",
              "      fill: #FFFFFF;\n",
              "    }\n",
              "  </style>\n",
              "\n",
              "      <script>\n",
              "        const buttonEl =\n",
              "          document.querySelector('#df-aa74b65d-ef66-4dc4-8e92-69b0b1d6bab3 button.colab-df-convert');\n",
              "        buttonEl.style.display =\n",
              "          google.colab.kernel.accessAllowed ? 'block' : 'none';\n",
              "\n",
              "        async function convertToInteractive(key) {\n",
              "          const element = document.querySelector('#df-aa74b65d-ef66-4dc4-8e92-69b0b1d6bab3');\n",
              "          const dataTable =\n",
              "            await google.colab.kernel.invokeFunction('convertToInteractive',\n",
              "                                                     [key], {});\n",
              "          if (!dataTable) return;\n",
              "\n",
              "          const docLinkHtml = 'Like what you see? Visit the ' +\n",
              "            '<a target=\"_blank\" href=https://colab.research.google.com/notebooks/data_table.ipynb>data table notebook</a>'\n",
              "            + ' to learn more about interactive tables.';\n",
              "          element.innerHTML = '';\n",
              "          dataTable['output_type'] = 'display_data';\n",
              "          await google.colab.output.renderOutput(dataTable, element);\n",
              "          const docLink = document.createElement('div');\n",
              "          docLink.innerHTML = docLinkHtml;\n",
              "          element.appendChild(docLink);\n",
              "        }\n",
              "      </script>\n",
              "    </div>\n",
              "  </div>\n",
              "  "
            ]
          },
          "metadata": {},
          "execution_count": 70
        }
      ]
    },
    {
      "cell_type": "code",
      "source": [
        "# dump to pkl\n",
        "pickle.dump([test_data, var_to_ind], open('forecasting_preds_test.pkl','wb'))"
      ],
      "metadata": {
        "id": "XHcDei3KFgjp"
      },
      "execution_count": 62,
      "outputs": []
    },
    {
      "cell_type": "markdown",
      "source": [
        "#### zip and save to g-drive"
      ],
      "metadata": {
        "id": "esDg6CQmYI-f"
      }
    },
    {
      "cell_type": "code",
      "source": [
        "! zip '/content/forecasting_preds_test.pkl.zip' '/content/forecasting_preds_test.pkl'"
      ],
      "metadata": {
        "colab": {
          "base_uri": "https://localhost:8080/"
        },
        "id": "0qeijs6TNPXr",
        "outputId": "1624d433-15df-4041-b34e-818537ce8bb0"
      },
      "execution_count": 82,
      "outputs": [
        {
          "output_type": "stream",
          "name": "stdout",
          "text": [
            "  adding: content/forecasting_preds_test.pkl (deflated 79%)\n"
          ]
        }
      ]
    },
    {
      "cell_type": "code",
      "source": [
        "! zip '/content/forecasting_preds_val.pkl.zip' '/content/forecasting_preds_val.pkl'"
      ],
      "metadata": {
        "colab": {
          "base_uri": "https://localhost:8080/"
        },
        "id": "Sy9M76HZO0RW",
        "outputId": "3f8391b4-fed3-4dc8-d4dc-b53c0959287a"
      },
      "execution_count": 83,
      "outputs": [
        {
          "output_type": "stream",
          "name": "stdout",
          "text": [
            "  adding: content/forecasting_preds_val.pkl (deflated 50%)\n"
          ]
        }
      ]
    },
    {
      "cell_type": "code",
      "source": [
        "! zip '/content/sepsis_pretext_large_processed.pkl.zip' '/content/sepsis_pretext_large_processed.pkl'"
      ],
      "metadata": {
        "colab": {
          "base_uri": "https://localhost:8080/"
        },
        "id": "x0XCG6IUPA_J",
        "outputId": "321ec72b-60ec-412e-bf72-336bb8429016"
      },
      "execution_count": 84,
      "outputs": [
        {
          "output_type": "stream",
          "name": "stdout",
          "text": [
            "  adding: content/sepsis_pretext_large_processed.pkl (deflated 88%)\n"
          ]
        }
      ]
    },
    {
      "cell_type": "code",
      "source": [
        "# save to g drive\n",
        "!cp -r '/content/forecasting_preds_test.pkl.zip' '/content/drive/MyDrive/sepsis/strats_exp'\n",
        "!cp -r '/content/forecasting_preds_val.pkl.zip' '/content/drive/MyDrive/sepsis/strats_exp'\n",
        "!cp -r '/content/sepsis_pretext_large_processed.pkl.zip' '/content/drive/MyDrive/sepsis/strats_exp'"
      ],
      "metadata": {
        "id": "1qv9dddGXFPl"
      },
      "execution_count": 85,
      "outputs": []
    }
  ]
}