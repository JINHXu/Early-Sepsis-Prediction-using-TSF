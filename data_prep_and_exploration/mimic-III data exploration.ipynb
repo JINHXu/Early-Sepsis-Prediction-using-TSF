{
 "cells": [
  {
   "cell_type": "code",
   "execution_count": 32,
   "id": "c29e21a0",
   "metadata": {},
   "outputs": [],
   "source": [
    "import pandas as pd\n",
    "from pathlib import Path\n",
    "import arrow\n",
    "from collections import Counter\n",
    "import json\n",
    "import matplotlib.pyplot as plt\n",
    "import nltk\n",
    "from tqdm import tqdm\n",
    "nltk.download('punkt')"
   ]
  },
  {
   "cell_type": "markdown",
   "id": "35706f8c",
   "metadata": {},
   "source": [
    "## Intoduction\n",
    "The following notebook provides some insights into the `mimic-III` database. <br> \n",
    "Firstly, we are going to look how we can determine which patients have developed sepsis and are interesting for our study. Then, we will take a look at few tables that contains sepsis-related features. Lastly, we will take a look at the table that contains the clinical notes and have a few insights about it. <br>\n",
    "This notebook is used only for exploration purposes. Please refer to the `mimic_events_icu_generation.py` and `mimic_preprocessed_data_generation.py` to generate the data for the experiments."
   ]
  },
  {
   "cell_type": "code",
   "execution_count": 2,
   "id": "13149832",
   "metadata": {},
   "outputs": [
    {
     "data": {
      "text/plain": [
       "26"
      ]
     },
     "execution_count": 2,
     "metadata": {},
     "output_type": "execute_result"
    }
   ],
   "source": [
    "DATA_FOLDER = Path.home() / \"uni\" / \"data\" \n",
    "mimic_path = DATA_FOLDER / \"mimic-iii-clinical-database-1.4\"\n",
    "\n",
    "documents = [fp for fp in (mimic_path).rglob(\"*.csv\") if fp.is_file() and fp.stem[0] != '.']\n",
    "len(documents)"
   ]
  },
  {
   "cell_type": "markdown",
   "id": "ef057cc6",
   "metadata": {},
   "source": [
    "## Names of mimic tables"
   ]
  },
  {
   "cell_type": "code",
   "execution_count": 2,
   "id": "2364e736",
   "metadata": {},
   "outputs": [],
   "source": [
    "for ind, doc in enumerate(documents):\n",
    "    print(ind, str(doc).rsplit(\"/\")[-1])"
   ]
  },
  {
   "cell_type": "markdown",
   "id": "c56a4b26",
   "metadata": {},
   "source": [
    "### Diagnosis table <br>\n",
    "From the following table the patient/ hospital admission ids can be taken based on the `ICD9_CODE`.  \n"
   ]
  },
  {
   "cell_type": "code",
   "execution_count": 1,
   "id": "d6dd6c42",
   "metadata": {},
   "outputs": [],
   "source": [
    "diagnosis_path = documents[16]\n",
    "diagnosis_table = pd.read_csv(diagnosis_path)\n",
    "diagnosis_table.head()"
   ]
  },
  {
   "cell_type": "markdown",
   "id": "99f16cae",
   "metadata": {},
   "source": [
    "In order to determine which `ICD9_CODE`s are of interest, one needs to go through the `D_ICD_DIAGNOSES` and extract the ICD9 codes based on the `LONG_TITLE` in the table. <br>\n",
    "Below, one can see how the table looks like and a short example with the `IC9_CODE` and its corresponding description"
   ]
  },
  {
   "cell_type": "code",
   "execution_count": 3,
   "id": "364e5e56",
   "metadata": {},
   "outputs": [],
   "source": [
    "diagnosis_names = pd.read_csv(documents[21])\n",
    "diagnosis_names.head()"
   ]
  },
  {
   "cell_type": "code",
   "execution_count": 4,
   "id": "f9df39be",
   "metadata": {},
   "outputs": [],
   "source": [
    "for index, row in diagnosis_names.iterrows():\n",
    "    if 'sepsis' in row['LONG_TITLE']:\n",
    "        print(row[\"ICD9_CODE\"], row[\"SHORT_TITLE\"])"
   ]
  },
  {
   "cell_type": "markdown",
   "id": "1149b0ce",
   "metadata": {},
   "source": [
    "For this project 23 sepsis codes were used. The codes vary depending on which bacteria is related to the patient's sepsis, as well as when sepsis has occured or whether it is severe or not. <br>\n",
    "SIRS has the following `ICD9_CODE`: 99590. It is, however, not part of the list, as no patients in our set had it. "
   ]
  },
  {
   "cell_type": "code",
   "execution_count": 7,
   "id": "2f3bd191",
   "metadata": {},
   "outputs": [],
   "source": [
    "sepsis_icd_codes = [\n",
    "    \"0380\",\"03810\", \"03811\", \"03812\", \"03819\",\"0382\",\"0383\",\"03840\",\n",
    "    \"03841\",\"03842\",\"03843\",\"03844\",\"03849\",\"0388\",\"0389\",\"67020\",\"67022\",\n",
    "    \"67024\",\"67030\",\"67032\",\"67034\",\"99591\",\"99592\" ]"
   ]
  },
  {
   "cell_type": "markdown",
   "id": "84b3c8db",
   "metadata": {},
   "source": [
    "Now it is important to determine which patients have been admitted with sepsis. Those patients we want to remove from our experiments, because the forecasting model cannot learn anything from them. The `ADMISSIONS` table does not have any ICD9 codes, so those patients need to be extracted based on string matches."
   ]
  },
  {
   "cell_type": "code",
   "execution_count": 5,
   "id": "3841023e",
   "metadata": {},
   "outputs": [],
   "source": [
    "# admission = pd.read_csv(documents[8])\n",
    "# admission.head()"
   ]
  },
  {
   "cell_type": "code",
   "execution_count": 9,
   "id": "8c4aaa06",
   "metadata": {},
   "outputs": [
    {
     "name": "stdout",
     "output_type": "stream",
     "text": [
      "No. of patients with sepsis diagnosis upon admission: 1785\n"
     ]
    }
   ],
   "source": [
    "#(id, hadm_id, admittion_time, discharge_time, diagnosis)\n",
    "patient_admission_info = [\n",
    "    (x,admission[\"HADM_ID\"][ind],admission[\"ADMITTIME\"][ind],\n",
    "     admission[\"DISCHTIME\"][ind],admission[\"DIAGNOSIS\"][ind]) \n",
    "    for ind, x in enumerate(admission[\"SUBJECT_ID\"])\n",
    "]\n",
    "\n",
    "septic_diagnosis = []\n",
    "for column_value in patient_admission_info:\n",
    "    # column_value[4] corresponds to the diagnosis entries\n",
    "    if type(column_value[4]) != float:\n",
    "        if \"sepsis\" in column_value[4].lower():\n",
    "            septic_diagnosis.append(column_value)\n",
    "        elif \"septicemia\" in column_value[4].lower():\n",
    "            septic_diagnosis.append(column_value)\n",
    "\n",
    "#get ids of patient who has sepsis on admission\n",
    "admission_patients_sepsis = [str(x[0]) for x in septic_diagnosis]\n",
    "print(\"No. of patients with sepsis diagnosis upon admission:\",len(admission_patients_sepsis))"
   ]
  },
  {
   "cell_type": "code",
   "execution_count": 10,
   "id": "3077f50b",
   "metadata": {},
   "outputs": [
    {
     "name": "stdout",
     "output_type": "stream",
     "text": [
      "Number of patients who develpoed sepsis:  4272\n"
     ]
    }
   ],
   "source": [
    "#get a list with the patient ids and their diagnosis \n",
    "patient_codes = [(diagnosis_table[\"SUBJECT_ID\"][ind],x) for ind, x in enumerate(diagnosis_table[\"ICD9_CODE\"])]\n",
    "\n",
    "#keep only the patients with sepsis codes         \n",
    "final_patients = [str(patient[0]) for patient in patient_codes if type(patient[1]) != float for el in sepsis_icd_codes if el in patient[1]]\n",
    "final_patients = list(set(final_patients) - set(admission_patients_sepsis))\n",
    "\n",
    "print(\"Number of patients who develpoed sepsis: \",len(final_patients))    "
   ]
  },
  {
   "cell_type": "code",
   "execution_count": 11,
   "id": "0c2f03fd",
   "metadata": {},
   "outputs": [],
   "source": [
    "# get the hamd_id for later visualizations\n",
    "patient_codes_hadm = [(diagnosis_table[\"HADM_ID\"][ind],x) for ind, x in enumerate(diagnosis_table[\"ICD9_CODE\"])]\n",
    "final_patients_ham = [patient[0] for patient in patient_codes_hadm if type(patient[1]) != float for el in sepsis_icd_codes if el in patient[1]]\n",
    "final_patients_hamd_id = list(set(final_patients_ham))"
   ]
  },
  {
   "cell_type": "markdown",
   "id": "e6c5853e",
   "metadata": {},
   "source": [
    "Now we also want to check that minor patients are not included in our final patient's set"
   ]
  },
  {
   "cell_type": "code",
   "execution_count": 6,
   "id": "a9190010",
   "metadata": {},
   "outputs": [],
   "source": [
    "patients = pd.read_csv(documents[20])\n",
    "#(subject_id, gender, DOB)\n",
    "patient_info = [(x,patients[\"GENDER\"][ind],patients[\"DOB\"][ind]) for ind, x in enumerate(patients[\"SUBJECT_ID\"])]\n",
    "print(patient_info[0])"
   ]
  },
  {
   "cell_type": "code",
   "execution_count": 13,
   "id": "25174b3e",
   "metadata": {},
   "outputs": [],
   "source": [
    "younger_than_18 = []\n",
    "newborn = []\n",
    "for patient in patient_admission_info:\n",
    "    for triplet in patient_info:\n",
    "        if patient[0] == triplet[0]:\n",
    "            dob = arrow.get(triplet[2].split(\" \")[0])\n",
    "            admin = arrow.get(patient[2].split(\" \")[0])\n",
    "            delta = str(admin - dob).split(\" \")[0]\n",
    "            if delta != '0:00:00':\n",
    "                age = int(delta)/365\n",
    "                if age < 18:\n",
    "                    younger_than_18.append(triplet)\n",
    "            else: \n",
    "                newborn.append(triplet)"
   ]
  },
  {
   "cell_type": "code",
   "execution_count": 14,
   "id": "7fd96a47",
   "metadata": {},
   "outputs": [
    {
     "data": {
      "text/plain": [
       "set()"
      ]
     },
     "execution_count": 14,
     "metadata": {},
     "output_type": "execute_result"
    }
   ],
   "source": [
    "young_ids = [x[0] for x in younger_than_18]\n",
    "newborn_ids = [x[0] for x in newborn]\n",
    "underage = young_ids + newborn_ids\n",
    "\n",
    "#check if any minors are present in the final set of patients\n",
    "set(final_patients).intersection(set(underage))"
   ]
  },
  {
   "cell_type": "markdown",
   "id": "dd824903",
   "metadata": {},
   "source": [
    "### Exploring Sepsis-related features\n",
    "Now we can look at few other tables that are of interest to us. Those include `MICROBIOLOGYEVENTS`, `PRESCRIPTION`, `PROCEDUREEVENTS` and `NOTEEVENTS`"
   ]
  },
  {
   "cell_type": "markdown",
   "id": "ed52c8e3",
   "metadata": {},
   "source": [
    "#### Blood Culture"
   ]
  },
  {
   "cell_type": "code",
   "execution_count": 7,
   "id": "b383b628",
   "metadata": {},
   "outputs": [],
   "source": [
    "microbiology = pd.read_csv(documents[5])\n",
    "microbiology.head()"
   ]
  },
  {
   "cell_type": "markdown",
   "id": "3767eefb",
   "metadata": {},
   "source": [
    "From this table we are only interest in `BLOOD CULTURE` and the time they were taken. We can get the desired rows based on the `SPEC_ITEMID`. The ID for blood culture is 70012.0 "
   ]
  },
  {
   "cell_type": "code",
   "execution_count": 8,
   "id": "699b5a4f",
   "metadata": {},
   "outputs": [],
   "source": [
    "blood_culture = microbiology.query(\"SPEC_ITEMID ==70012.0\")\n",
    "blood_culture.loc[:, [\"SUBJECT_ID\",\"HADM_ID\",\"CHARTDATE\",\"CHARTTIME\",\"SPEC_TYPE_DESC\"]]"
   ]
  },
  {
   "cell_type": "markdown",
   "id": "c6aec717",
   "metadata": {},
   "source": [
    "#### Antibiotics\n",
    "Now we can look at the `PRESCRIPTION` table. From this table we can collect the times that antibiotics have been admittived intravenously. <br>\n",
    "The antibiotics of interest are: <br>\n",
    "- ceftriaxone (Rocephin) \n",
    "- piperacillin-tazobactam \n",
    "- cefepime (Maxipime) \n",
    "- ceftazidime (Fortaz) \n",
    "- vancomycin (Firvanq) \n",
    "- ciprofloxacin (Cipro) \n",
    "- levofloxacin (Levaquin) \n",
    "- meropenem \n",
    "- imipenem/cilastatin \n",
    "- ampicillin/sulbactam \n",
    "<br>\n",
    "<br>\n",
    "Ideally, we want the duration IV antibiotics administration to better determine if the patient is septic or not"
   ]
  },
  {
   "cell_type": "code",
   "execution_count": 9,
   "id": "64ca2ff5",
   "metadata": {},
   "outputs": [],
   "source": [
    "prescriptions = pd.read_csv(documents[11])\n",
    "prescriptions = prescriptions.loc[:, [\"ICUSTAY_ID\",\"STARTDATE\",\"ENDDATE\",\"DRUG\", \"ROUTE\"]]\n",
    "prescriptions.head()"
   ]
  },
  {
   "cell_type": "markdown",
   "id": "351a9c6d",
   "metadata": {},
   "source": [
    "From the `PROCEDUREEVENTS` we can extract the mechanically ventilated feature, which has the `ITEMID` value of 225792"
   ]
  },
  {
   "cell_type": "code",
   "execution_count": 18,
   "id": "3865af98",
   "metadata": {},
   "outputs": [],
   "source": [
    "procedures = pd.read_csv(documents[0])"
   ]
  },
  {
   "cell_type": "code",
   "execution_count": 10,
   "id": "99a8fe79",
   "metadata": {},
   "outputs": [],
   "source": [
    "procedures = procedures.query('ITEMID==225792')\n",
    "procedures.head()"
   ]
  },
  {
   "cell_type": "markdown",
   "id": "45dd74df",
   "metadata": {},
   "source": [
    "### Clinical Notes \n",
    "Lastly, we can take a look at the clinical notes from the `NOTEEVENTS` table. This table contains free text notes which come from different departments and healthcare practitioners. Some examples include:\n",
    "- Discharge summaries  \n",
    "- Nursing and physician notes\n",
    "- Radiology reports\n",
    "- ECG reports \n",
    "- Pharmacy\n",
    "- Social work <br>\n",
    "<br>\n",
    "Sections that often appear in these clinical notes are:\n",
    "- Final Report\n",
    "- History of Present Illness\n",
    "- Past Medical History\n",
    "- Medications\n",
    "- Social History\n",
    "- Brief Hospital Course\n",
    "- Hospital Course\n",
    "- Medications on Admission\n",
    "- Discharge Medication\n",
    "- Discharge Instructions\n",
    "\n",
    "In the following section we will take a look at three things:\n",
    "1. Length of texts. \n",
    "2. What were the different duration of stays for the patients that developed sepsis and \n",
    "3. How many notes were created during the stay of the patient in the hospital"
   ]
  },
  {
   "cell_type": "code",
   "execution_count": 20,
   "id": "2e7dd8ac",
   "metadata": {},
   "outputs": [
    {
     "name": "stderr",
     "output_type": "stream",
     "text": [
      "/Library/Frameworks/Python.framework/Versions/3.9/lib/python3.9/site-packages/IPython/core/interactiveshell.py:3169: DtypeWarning: Columns (4,5) have mixed types.Specify dtype option on import or set low_memory=False.\n",
      "  has_raised = await self.run_ast_nodes(code_ast.body, cell_name,\n"
     ]
    }
   ],
   "source": [
    "clinical_notes = pd.read_csv(documents[13])"
   ]
  },
  {
   "cell_type": "code",
   "execution_count": 11,
   "id": "4bcc9bd7",
   "metadata": {},
   "outputs": [],
   "source": [
    "clinical_notes = clinical_notes.loc[:, [\"SUBJECT_ID\",\"HADM_ID\",\"CHARTDATE\",\"CHARTTIME\",\"TEXT\"]]\n",
    "clinical_notes.tail()"
   ]
  },
  {
   "cell_type": "code",
   "execution_count": 22,
   "id": "74dd910b",
   "metadata": {},
   "outputs": [
    {
     "data": {
      "text/plain": [
       "(353487, 5)"
      ]
     },
     "execution_count": 22,
     "metadata": {},
     "output_type": "execute_result"
    }
   ],
   "source": [
    "sepsis_patients_df = clinical_notes[clinical_notes['HADM_ID'].isin(final_patients_hamd_id)]\n",
    "sepsis_patients_df.shape"
   ]
  },
  {
   "cell_type": "markdown",
   "id": "3792a587",
   "metadata": {},
   "source": [
    "The first graph gives a rough idea about the distribution of tokens to see how long the text entries are. Note that stop words have not been removed. "
   ]
  },
  {
   "cell_type": "code",
   "execution_count": 23,
   "id": "1081ac86",
   "metadata": {},
   "outputs": [
    {
     "name": "stderr",
     "output_type": "stream",
     "text": [
      "100%|██████████████████████████████████| 353487/353487 [14:58<00:00, 393.27it/s]\n"
     ]
    }
   ],
   "source": [
    "token_counts = {}\n",
    "for index, row in tqdm(sepsis_patients_df.iterrows(), total=sepsis_patients_df.shape[0]):\n",
    "    # tokenize the text and get the count of tokens\n",
    "    text_tokens = nltk.word_tokenize(str(row['TEXT']))\n",
    "    token_count = len(text_tokens)\n",
    "    # add the count to the dictionary\n",
    "    if token_count in token_counts:\n",
    "        token_counts[token_count] += 1\n",
    "    else:\n",
    "        token_counts[token_count] = 1"
   ]
  },
  {
   "cell_type": "code",
   "execution_count": 24,
   "id": "efb7ce1f",
   "metadata": {},
   "outputs": [
    {
     "data": {
      "image/png": "[encoded data removed]",
      "text/plain": [
       "<Figure size 864x432 with 1 Axes>"
      ]
     },
     "metadata": {
      "needs_background": "light"
     },
     "output_type": "display_data"
    }
   ],
   "source": [
    "plt.figure(figsize=(12,6))\n",
    "plt.bar(token_counts.keys(), token_counts.values())\n",
    "plt.xlabel('Number of Tokens')\n",
    "plt.ylabel('Number of Notes')\n",
    "plt.title('Distribution of Text Tokens')\n",
    "plt.xlim(0, 2500)\n",
    "plt.show()"
   ]
  },
  {
   "cell_type": "markdown",
   "id": "9cf2d048",
   "metadata": {},
   "source": [
    "The above graph gives a rough idea about the distribution of tokens to see how long the text entries are. Note that stop words have not been removed. <br>\n",
    "From the graph it can be seen that a few letters are very long and that the majority of the letters are rather short or medium size"
   ]
  },
  {
   "cell_type": "markdown",
   "id": "56180e75",
   "metadata": {},
   "source": [
    "#### Duration of patient's stay\n",
    "Now it would be interesting to see the different durations of patient's stay in the hospital. Moreover, we can see how many clinical notes did the patients receive during they stay."
   ]
  },
  {
   "cell_type": "code",
   "execution_count": 33,
   "id": "2056fb43",
   "metadata": {},
   "outputs": [
    {
     "name": "stderr",
     "output_type": "stream",
     "text": [
      "/var/folders/q7/9w0rlfld07zddm0ps4d9b1dw0000gn/T/ipykernel_39313/1707145488.py:1: SettingWithCopyWarning: \n",
      "A value is trying to be set on a copy of a slice from a DataFrame.\n",
      "Try using .loc[row_indexer,col_indexer] = value instead\n",
      "\n",
      "See the caveats in the documentation: https://pandas.pydata.org/pandas-docs/stable/user_guide/indexing.html#returning-a-view-versus-a-copy\n",
      "  sepsis_patients_df['CHARTDATE'] = pd.to_datetime(sepsis_patients_df['CHARTDATE'])\n"
     ]
    },
    {
     "data": {
      "image/png": "[encoded data removed]",
      "text/plain": [
       "<Figure size 864x432 with 1 Axes>"
      ]
     },
     "metadata": {
      "needs_background": "light"
     },
     "output_type": "display_data"
    }
   ],
   "source": [
    "sepsis_patients_df['CHARTDATE'] = pd.to_datetime(sepsis_patients_df['CHARTDATE'])\n",
    "\n",
    "df = sepsis_patients_df.sort_values(['HADM_ID', 'CHARTDATE'])\n",
    "\n",
    "# Calculate the time period of letters in days for each HADM_ID\n",
    "hadm_id_periods = {}\n",
    "for hadm_id, group in df.groupby('HADM_ID'):\n",
    "    first_date = group.iloc[0]['CHARTDATE']\n",
    "    last_date = group.iloc[-1]['CHARTDATE']\n",
    "    period = (last_date - first_date).days\n",
    "    if period in hadm_id_periods:\n",
    "        hadm_id_periods[period] += 1\n",
    "    else:\n",
    "        hadm_id_periods[period] = 1\n",
    "\n",
    "# Plot time period of letters vs how many times those periods occured\n",
    "plt.figure(figsize=(12,6))\n",
    "\n",
    "plt.bar(hadm_id_periods.keys(), hadm_id_periods.values())\n",
    "plt.xlabel('Time period (days)')\n",
    "plt.ylabel('Number of occurrences')\n",
    "plt.xlim(0, 120)\n",
    "plt.savefig(\"period_of_stay\")\n",
    "plt.show()\n"
   ]
  },
  {
   "cell_type": "markdown",
   "id": "f3fa373c",
   "metadata": {},
   "source": [
    "The above graph shows that most patients spent under 20 days in the icu. However, there appear also to be cases where patients stays longer than 100 days. On average, a patient spents about 15 days in the icu."
   ]
  },
  {
   "cell_type": "code",
   "execution_count": 31,
   "id": "cc0fe7db",
   "metadata": {},
   "outputs": [
    {
     "data": {
      "image/png": "[encoded data removed]",
      "text/plain": [
       "<Figure size 1152x432 with 1 Axes>"
      ]
     },
     "metadata": {
      "needs_background": "light"
     },
     "output_type": "display_data"
    }
   ],
   "source": [
    "# Calculate the period of stay in days for each HADM_ID\n",
    "hadm_id_stays = {}\n",
    "for hadm_id, group in df.groupby('HADM_ID'):\n",
    "    first_date = group.iloc[0]['CHARTDATE']\n",
    "    last_date = group.iloc[-1]['CHARTDATE']\n",
    "    stay = (last_date - first_date).days\n",
    "    hadm_id_stays[hadm_id] = stay\n",
    "\n",
    "# Calculate the amount of text (number of rows) for each HADM_ID\n",
    "hadm_id_text = {}\n",
    "for hadm_id, group in df.groupby('HADM_ID'):\n",
    "    hadm_id_text[hadm_id] = len(group)\n",
    "\n",
    "# Plot period of stay vs the amount text that was present\n",
    "plt.figure(figsize=(16,6))\n",
    "plt.scatter(hadm_id_stays.values(), hadm_id_text.values())\n",
    "plt.xlabel('Period of stay (days)')\n",
    "plt.ylabel('Amount of text (number of rows)')\n",
    "plt.show()"
   ]
  },
  {
   "cell_type": "markdown",
   "id": "a903940c",
   "metadata": {},
   "source": [
    "The above scatter plot shows how many clinical notes the patients received during their stay in the icu. From the plot one can see that most patients have under 100 notes during their stay\n"
   ]
  },
  {
   "cell_type": "code",
   "execution_count": null,
   "id": "af58ef58",
   "metadata": {},
   "outputs": [],
   "source": []
  }
 ],
 "metadata": {
  "kernelspec": {
   "display_name": "Python 3 (ipykernel)",
   "language": "python",
   "name": "python3"
  },
  "language_info": {
   "codemirror_mode": {
    "name": "ipython",
    "version": 3
   },
   "file_extension": ".py",
   "mimetype": "text/x-python",
   "name": "python",
   "nbconvert_exporter": "python",
   "pygments_lexer": "ipython3",
   "version": "3.9.5"
  }
 },
 "nbformat": 4,
 "nbformat_minor": 5
}
