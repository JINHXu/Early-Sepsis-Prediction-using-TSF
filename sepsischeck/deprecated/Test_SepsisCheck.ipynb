{
 "cells": [
  {
   "cell_type": "code",
   "execution_count": 1,
   "metadata": {},
   "outputs": [],
   "source": [
    "import SepsisCheck as sc\n",
    "import pandas as pd\n",
    "import numpy as np"
   ]
  },
  {
   "cell_type": "markdown",
   "metadata": {},
   "source": [
    "# Testing the sepsis Check:\n",
    "\n",
    "Requirements for t_sofa:\n",
    "\n",
    "1. Sofa increase of 2 within 24 hours\n",
    "\n",
    "Requirements for a suspicion: \n",
    "  \n",
    "1. IV-antibiotics for atleast 72 consecutive hours and blood cultures taken\n",
    "\n",
    "2. If IV-antibiotics administered first, blood cultures must have been taken within 24 hours\n",
    "\n",
    "3. If blood cultures taken first, IV-antibiotics must have been ordered within 72 hours\n",
    "\n",
    "4. Time of Suspicion T_sus: Earlier timestamp of either IV-antibiotics or blood cultures under fullfillment of the stated requirements.\n",
    "\n",
    "Requirements for Sepsis:\n",
    "\n",
    "1. As long as t_sofa occured no more than 24 hours before or 12 hours after t_suspicion, patient is septic."
   ]
  },
  {
   "attachments": {},
   "cell_type": "markdown",
   "metadata": {},
   "source": [
    "### Testing 'get_t_sofa(hourly list sofa scores)':\n",
    "    1. 1. +2 increase in the 24th hour -> 23 (0-indexed)\n",
    "    2. +2 increase in the 36th hour (and within 24 hrs) -> 35 0-indexed\n",
    "    3. +2 increase, but not within 24 hrs -> False, no Sepsis\n",
    "    4. no increase at all -> False, no Sepsis"
   ]
  },
  {
   "cell_type": "code",
   "execution_count": 2,
   "metadata": {},
   "outputs": [
    {
     "name": "stdout",
     "output_type": "stream",
     "text": [
      "1. +2 increase in the 24th hour -> 23 (0-indexed):  23 \n",
      "2. +2 increase in the 36th hour (and within 24 hrs) -> 35 0-indexed:  35 \n",
      "3. +2 increase, but not within 24 hrs -> False, no Sepsis:  False \n",
      "4. no increase at all -> False, no Sepsis:  False\n"
     ]
    }
   ],
   "source": [
    "# 1. +2 increase in the 24th hour -> 23 (0-indexed)\n",
    "sofa1 = [2,2,2,2,2,2,2,2,2,2,2,2,3,3,3,3,3,3,3,3,3,3,3,4]\n",
    "# 2. +2 increase in the 36th hour (and within 24 hrs) -> 35 0-indexed\n",
    "sofa2 = [2,2,2,2,2,2,2,2,2,2,2,2,2,2,2,2,2,2,2,2,2,2,2,2,3,3,3,3,3,3,3,3,3,3,3,4]\n",
    "# 3. +2 increase, but not within 24 hrs -> False, no Sepsis\n",
    "sofa3 = [2,2,2,2,3,3,3,3,3,3,3,3,3,3,3,3,3,3,3,3,3,3,3,3,3,3,3,3,4,4,4,4,4,4,4,4]\n",
    "# 4. no increase at all -> False, no Sepsis\n",
    "sofa4 = [2,2,2,2,2,2,2,2,2,2,2,2,2,2,2,2,2,2,2,2,2,2,2,2]\n",
    "\n",
    "print(\"1. +2 increase in the 24th hour -> 23 (0-indexed): \",sc.get_t_sofa(sofa1),\n",
    "        \"\\n2. +2 increase in the 36th hour (and within 24 hrs) -> 35 0-indexed: \",sc.get_t_sofa(sofa2),\n",
    "        \"\\n3. +2 increase, but not within 24 hrs -> False, no Sepsis: \",sc.get_t_sofa(sofa3),\n",
    "        \"\\n4. no increase at all -> False, no Sepsis: \",sc.get_t_sofa(sofa4))"
   ]
  },
  {
   "attachments": {},
   "cell_type": "markdown",
   "metadata": {},
   "source": [
    "### Testing 'iv_check(hourly list of iv-antibiotics active or not)':\n",
    "    1. 72+ hours of True -> 0 (0-indexed)\n",
    "    2. 71 hours of True -> False, No Sepsis\n",
    "    3. 36 hours of True, 1 False, 36 hours of True -> False, not consecutive, No Sepsis\n",
    "    4. Sparsely True and False throughout the list -> False, not consecutive, No Sepsis"
   ]
  },
  {
   "cell_type": "code",
   "execution_count": 3,
   "metadata": {},
   "outputs": [
    {
     "name": "stdout",
     "output_type": "stream",
     "text": [
      "1. 72+ hours of True -> 0 (0-indexed):  0 \n",
      "2. 71 hours of True -> False, No Sepsis:  False \n",
      "3. 36 hours of True, 1 False, 36 hours of True -> False, not consecutive, No Sepsis:  False \n",
      "4. Sparsely True and False throughout the list -> False, not consecutive, No Sepsis:  False\n"
     ]
    }
   ],
   "source": [
    "# 1. 72+ hours of True -> 0 (0-indexed)\n",
    "IV1 = [True, True, True, True, True, True, True, True, True, True, True, True, True, True, True, True, True, True, True, True, True, True, True, True, True, True, True, True, True, True, True, True, True, True, True, True, True, True, True, True, True, True, True, True, True, True, True, True, True, True, True, True, True, True, True, True, True, True, True, True, True, True, True, True, True, True, True, True, True, True, True, True]\n",
    "# 2. 71 hours of True -> False, No Sepsis\n",
    "IV2 = [True, True, True, True, True, True, True, True, True, True, True, True, True, True, True, True, True, True, True, True, True, True, True, True, True, True, True, True, True, True, True, True, True, True, True, True, True, True, True, True, True, True, True, True, True, True, True, True, True, True, True, True, True, True, True, True, True, True, True, True, True, True, True, True, True, True, True, True, True, True, True]\n",
    "# 3. 36 hours of True, 1 False, 36 hours of True -> False, not consecutive, No Sepsis\n",
    "IV3 = [True, True, True, True, True, True, True, True, True, True, True, True, True, True, True, True, True, True, True, True, True, True, True, True, True, True, True, True, True, True, True, True, False, True, True, True, True, True, True, True, True, True, True, True, True, True, True, True, True, True, True, True, True, True, True, True, True, True, True, True, True, True, True, True, True, True, True, True, True, True, True, True, True]\n",
    "# 4. Sparsely True and False throughout the list -> False, not consecutive, No Sepsis\n",
    "IV4 = [True, True, True, False, True, False, False, True, True, True, True, False, True, False, False, True, True, True, True, False, True, False, False, True, True, True, True, False, True, False, False, True, True, True, True, False, True, False, False, True, True, True, True, False, True, False, False, True, True, True, True, False, True, False, False, True, True, True, True, False, True, False, False, True, True, True, True, False, True, False, False, True]\n",
    "\n",
    "print(\"1. 72+ hours of True -> 0 (0-indexed): \",sc.iv_check(IV1),\n",
    "    \"\\n2. 71 hours of True -> False, No Sepsis: \",sc.iv_check(IV2),\n",
    "    \"\\n3. 36 hours of True, 1 False, 36 hours of True -> False, not consecutive, No Sepsis: \",sc.iv_check(IV3),\n",
    "    \"\\n4. Sparsely True and False throughout the list -> False, not consecutive, No Sepsis: \",sc.iv_check(IV4))"
   ]
  },
  {
   "attachments": {},
   "cell_type": "markdown",
   "metadata": {},
   "source": [
    "### Testing 'blood_check(hourly list of whether cultures were taken)':\n",
    "    1. only False -> False, No Sepsis\n",
    "    2. only True -> 0th timestep\n",
    "    3. First true at position 30 -> 29 (0-indexed)\n",
    "    4. various True throughout the list -> 4 (0-indexed first occurence of True)"
   ]
  },
  {
   "cell_type": "code",
   "execution_count": 4,
   "metadata": {},
   "outputs": [
    {
     "name": "stdout",
     "output_type": "stream",
     "text": [
      "1. only False -> False, No Sepsis:  False \n",
      "2. only True -> 0th timestep:  0 \n",
      "3. First true at position 30 -> 29 (0-indexed):  29 \n",
      "4. various True throughout the list -> 4 (0-indexed first occurence of True):  4\n"
     ]
    }
   ],
   "source": [
    "# 1. only False -> False, No Sepsis\n",
    "blood1 = [False, False, False, False, False, False, False, False]\n",
    "# 2. only True -> 0th timestep\n",
    "blood2 = [True, True, True, True, True, True, True, True]\n",
    "# 3. First true at position 30 -> 29 (0-indexed)\n",
    "blood3 = [False, False, False, False, False, False, False, False, False, False, False, False, False, False, False, False, False, False, False, False, False, False, False, False, False, False, False, False, False, True, False, False, True, False, False, False, False, False, False, False, True, False, False, False, False, False, False, True, False, False, False, False, False, False, True, False, False, False, False, False, False, True, False, False, False, False, False, False, True, False, False, False]\n",
    "# 4. various True throughout the list -> 4 (0-indexed first occurence of True)\n",
    "blood4 = [False, False, False, False, True, True, False, False, False, False, False, False, True, True, False, False]\n",
    "\n",
    "print(\"1. only False -> False, No Sepsis: \",sc.blood_check(blood1),\n",
    "    \"\\n2. only True -> 0th timestep: \",sc.blood_check(blood2),\n",
    "    \"\\n3. First true at position 30 -> 29 (0-indexed): \",sc.blood_check(blood3),\n",
    "    \"\\n4. various True throughout the list -> 4 (0-indexed first occurence of True): \",sc.blood_check(blood4))"
   ]
  },
  {
   "attachments": {},
   "cell_type": "markdown",
   "metadata": {},
   "source": [
    "### Testing 'get_t_sus(t_of_IV, t_of_bloodcultures)':\n",
    "    1. t_of_IV == False -> False, no Sepsis\n",
    "    2. t_of_bloodcultures == False -> False, no Sepsis\n",
    "    3 Antibiotics first:\n",
    "        3.1 Antibiotics at 1 and cultures at 25 (within 24 hrs) -> t_sus = 1\n",
    "        3.2 Antibiotics at 1 and cultures at 26 (not within 24 hrs) -> False, no Sepsis\n",
    "    4 Blood Cultures first:\n",
    "        4.1 Cultures at 0 and Antibiotics at 72 (within 72 hrs) -> t_sus = 0\n",
    "        4.2 Cultures at 0 and Antibiotics at 73 (not within 72 hrs) -> False, no Sepsis\n",
    "    5. Blood Cultures and Antibiotics at the same time (3) -> 3"
   ]
  },
  {
   "cell_type": "code",
   "execution_count": 5,
   "metadata": {},
   "outputs": [
    {
     "name": "stdout",
     "output_type": "stream",
     "text": [
      "1. t_of_IV == False -> False, no Sepsis:  False \n",
      "2. t_of_bloodcultures == False -> False, no Sepsis:  False \n",
      "3 Antibiotics first \n",
      "3.1 Antibiotics at 1 and cultures at 25 (within 24 hrs) -> t_sus = 1:  1 \n",
      "3.2 Antibiotics at 1 and cultures at 26 (not within 24 hrs) -> False, no Sepsis:  False \n",
      "4 Blood Cultures first \n",
      "4.1 Cultures at 0 and Antibiotics at 72 (within 72 hrs) -> t_sus = 0:  0 \n",
      "4.2 Cultures at 0 and Antibiotics at 73 (not within 72 hrs) -> False, no Sepsis:  False \n",
      "5. Blood Cultures and Antibiotics at the same time (3) -> 3:  3\n"
     ]
    }
   ],
   "source": [
    "# 1. t_of_IV == False -> False, No Sepsis\n",
    "tIV1 = False\n",
    "tBC1 = 2\n",
    "# 2. t_of_bloodcultures == False -> False, no Sepsis\n",
    "tIV2 = 2\n",
    "tBC2 = False\n",
    "# 3 Antibiotics first:\n",
    "# 3.1 Antibiotics at 1 and cultures at 25 (within 24 hrs) -> t_sus = 1\n",
    "tIV31 = 1\n",
    "tBC31 = 25\n",
    "# 3.2 Antibiotics at 1 and cultures at 26 (not within 24 hrs) -> False, no Sepsis\n",
    "tIV32 = 1\n",
    "tBC32 = 26\n",
    "# 4 Blood Cultures first:\n",
    "# 4.1 Cultures at 0 and Antibiotics at 72 (within 72 hrs) -> t_sus = 0\n",
    "tIV41 = 72\n",
    "tBC41 = 0\n",
    "# 4.2 Cultures at 0 and Antibiotics at 73 (not within 72 hrs) -> False, no Sepsis\n",
    "tIV42 = 73\n",
    "tBC42 = 0\n",
    "# 5. Blood Cultures and Antibiotics at the same time (3) -> 3\n",
    "tIV5 = 3\n",
    "tBC5 = 3\n",
    "\n",
    "print(\"1. t_of_IV == False -> False, no Sepsis: \",sc.get_t_sus(tIV1, tBC1),\n",
    "    \"\\n2. t_of_bloodcultures == False -> False, no Sepsis: \",sc.get_t_sus(tIV2, tBC2),\n",
    "    \"\\n3 Antibiotics first\",\n",
    "    \"\\n3.1 Antibiotics at 1 and cultures at 25 (within 24 hrs) -> t_sus = 1: \",sc.get_t_sus(tIV31, tBC31),\n",
    "    \"\\n3.2 Antibiotics at 1 and cultures at 26 (not within 24 hrs) -> False, no Sepsis: \",sc.get_t_sus(tIV32, tBC32),\n",
    "    \"\\n4 Blood Cultures first\",\n",
    "    \"\\n4.1 Cultures at 0 and Antibiotics at 72 (within 72 hrs) -> t_sus = 0: \",sc.get_t_sus(tIV41, tBC41),\n",
    "    \"\\n4.2 Cultures at 0 and Antibiotics at 73 (not within 72 hrs) -> False, no Sepsis: \",sc.get_t_sus(tIV42, tBC42),\n",
    "    \"\\n5. Blood Cultures and Antibiotics at the same time (3) -> 3: \",sc.get_t_sus(tIV5, tBC5))\n",
    "\n",
    "\n"
   ]
  },
  {
   "attachments": {},
   "cell_type": "markdown",
   "metadata": {},
   "source": [
    "### Testing 'is_septic(t_sofa, t_sus)':\n",
    "    1. t_sofa == False -> False, no Sepsis\n",
    "    2. 2. t_sus == False -> False, no Sepsis\n",
    "    3 t_sofa first:\n",
    "        3.1 t_sofa at 1 and t_sus at 25 (within 24 hrs) -> True\n",
    "        3.2 t_sofa at 1 and t_sus at 26 (not within 24 hrs) -> False, no Sepsis\n",
    "    4 t_sus first:\n",
    "        4.1 t_sus at 0 and t_sofa at 12 (within 12 hrs) -> True\n",
    "        4.2 t_sus at 0 and t_sofa at 13 (not within 12 hrs)  -> False"
   ]
  },
  {
   "cell_type": "code",
   "execution_count": 6,
   "metadata": {},
   "outputs": [
    {
     "name": "stdout",
     "output_type": "stream",
     "text": [
      "1. t_sofa == False -> False, no Sepsis:  False \n",
      "2. t_sus == False -> False, no Sepsis:  False \n",
      "3 t_sofa first \n",
      "3.1 t_sofa at 1 and t_sus at 25 (within 24 hrs) -> True:  True \n",
      "3.2 t_sofa at 1 and t_sus at 26 (not within 24 hrs) -> False, no Sepsis:  False \n",
      "4 t_sus first \n",
      "4.1 t_sus at 0 and t_sofa at 12 (within 12 hrs) -> True:  True \n",
      "4.2 t_sus at 0 and t_sofa at 13 (not within 12 hrs)  -> False:  False\n"
     ]
    }
   ],
   "source": [
    "# 1. t_sofa == False -> False, No Sepsis\n",
    "tsofa1 = False\n",
    "tsus1 = 3\n",
    "# 2. t_sus == False -> False, No Sepsis\n",
    "tsofa2 = 3\n",
    "tsus2 = False\n",
    "# 3 t_sofa first:\n",
    "# 3.1 t_sofa at 1 and t_sus at 25 (within 24 hrs) -> True\n",
    "tsofa31 = 1\n",
    "tsus31 = 25\n",
    "# 3.2 t_sofa at 1 and t_sus at 26 (not within 24 hrs) -> False, no Sepsis\n",
    "tsofa32 = 1\n",
    "tsus32 = 26\n",
    "# 4 t_sus first:\n",
    "# 4.1 t_sus at 0 and t_sofa at 12 (within 12 hrs) -> True\n",
    "tsofa41 = 12\n",
    "tsus41 = 0\n",
    "# 4.2 t_sus at 0 and t_sofa at 13 (not within 12 hrs)  -> False\n",
    "tsofa42 = 13\n",
    "tsus42 = 0\n",
    "\n",
    "print(\"1. t_sofa == False -> False, no Sepsis: \", sc.is_septic(tsofa1, tsus1),\n",
    "    \"\\n2. t_sus == False -> False, no Sepsis: \",sc.is_septic(tsofa2,tsus2),\n",
    "    \"\\n3 t_sofa first\",\n",
    "    \"\\n3.1 t_sofa at 1 and t_sus at 25 (within 24 hrs) -> True: \",sc.is_septic(tsofa31, tsus31),\n",
    "    \"\\n3.2 t_sofa at 1 and t_sus at 26 (not within 24 hrs) -> False, no Sepsis: \",sc.is_septic(tsofa32,tsus32),\n",
    "    \"\\n4 t_sus first\",\n",
    "    \"\\n4.1 t_sus at 0 and t_sofa at 12 (within 12 hrs) -> True: \",sc.is_septic(tsofa41, tsus41),\n",
    "    \"\\n4.2 t_sus at 0 and t_sofa at 13 (not within 12 hrs)  -> False: \",sc.is_septic(tsofa42,tsus42))"
   ]
  },
  {
   "attachments": {},
   "cell_type": "markdown",
   "metadata": {},
   "source": [
    "### Testing Sofascore from github/shimst3r/sofascore (slightly modified)"
   ]
  },
  {
   "cell_type": "code",
   "execution_count": 7,
   "metadata": {},
   "outputs": [
    {
     "ename": "TypeError",
     "evalue": "'<' not supported between instances of 'Urine' and 'int'",
     "output_type": "error",
     "traceback": [
      "\u001b[1;31m---------------------------------------------------------------------------\u001b[0m",
      "\u001b[1;31mTypeError\u001b[0m                                 Traceback (most recent call last)",
      "Cell \u001b[1;32mIn[7], line 7\u001b[0m\n\u001b[0;32m      4\u001b[0m sofa4 \u001b[39m=\u001b[39m sc\u001b[39m.\u001b[39mCondition(\u001b[39m50\u001b[39m, sc\u001b[39m.\u001b[39mCatecholamine(\u001b[39m\"\u001b[39m\u001b[39mepinephrine\u001b[39m\u001b[39m\"\u001b[39m, \u001b[39m0.5\u001b[39m), \u001b[39m100\u001b[39m, \u001b[39m3.3\u001b[39m, sc\u001b[39m.\u001b[39mUrine(\u001b[39m501\u001b[39m), \u001b[39m6.1\u001b[39m, \u001b[39m7\u001b[39m, \u001b[39m150\u001b[39m, \u001b[39mTrue\u001b[39;00m) \u001b[39m#score 16\u001b[39;00m\n\u001b[0;32m      5\u001b[0m sofa5 \u001b[39m=\u001b[39m sc\u001b[39m.\u001b[39mCondition(\u001b[39m50\u001b[39m, sc\u001b[39m.\u001b[39mCatecholamine(\u001b[39m\"\u001b[39m\u001b[39mepinephrine\u001b[39m\u001b[39m\"\u001b[39m, \u001b[39m0.5\u001b[39m), \u001b[39m100\u001b[39m, \u001b[39m3.3\u001b[39m, sc\u001b[39m.\u001b[39mUrine(\u001b[39mNone\u001b[39;00m), \u001b[39m6.1\u001b[39m, \u001b[39m7\u001b[39m, \u001b[39m150\u001b[39m, \u001b[39mTrue\u001b[39;00m) \u001b[39m#score 16, checking if initiating Urine class = None still works\u001b[39;00m\n\u001b[1;32m----> 7\u001b[0m \u001b[39mprint\u001b[39m(sc\u001b[39m.\u001b[39;49mcompute(sofa1), sc\u001b[39m.\u001b[39mcompute(sofa2), sc\u001b[39m.\u001b[39mcompute(sofa3), sc\u001b[39m.\u001b[39mcompute(sofa4))\n\u001b[0;32m      8\u001b[0m \u001b[39mtry\u001b[39;00m:\n\u001b[0;32m      9\u001b[0m     \u001b[39mprint\u001b[39m(sc\u001b[39m.\u001b[39mcompute(sofa5))\n",
      "File \u001b[1;32me:\\private\\GitHub\\sepsis-check\\SepsisCheck.py:77\u001b[0m, in \u001b[0;36mcompute\u001b[1;34m(condition)\u001b[0m\n\u001b[0;32m     72\u001b[0m cvs_score \u001b[39m=\u001b[39m compute_score_for_cardiovascular_system(\n\u001b[0;32m     73\u001b[0m     mean_arterial_pressure\u001b[39m=\u001b[39mcondition\u001b[39m.\u001b[39mmean_arterial_pressure,\n\u001b[0;32m     74\u001b[0m     catecholamine\u001b[39m=\u001b[39mcondition\u001b[39m.\u001b[39mcatecholamine,\n\u001b[0;32m     75\u001b[0m )\n\u001b[0;32m     76\u001b[0m cg_score \u001b[39m=\u001b[39m compute_score_for_coagulation(platelets_count\u001b[39m=\u001b[39mcondition\u001b[39m.\u001b[39mplatelets_count)\n\u001b[1;32m---> 77\u001b[0m kdny_score \u001b[39m=\u001b[39m compute_score_for_kidneys(creatinine_level\u001b[39m=\u001b[39;49mcondition\u001b[39m.\u001b[39;49mcreatinine_level, urine_output\u001b[39m=\u001b[39;49mcondition\u001b[39m.\u001b[39;49murine_output)\n\u001b[0;32m     78\u001b[0m livr_score \u001b[39m=\u001b[39m compute_score_for_liver(bilirubin_level\u001b[39m=\u001b[39mcondition\u001b[39m.\u001b[39mbilirubin_level)\n\u001b[0;32m     79\u001b[0m ns_score \u001b[39m=\u001b[39m compute_score_for_nervous_system(\n\u001b[0;32m     80\u001b[0m     glasgow_coma_scale\u001b[39m=\u001b[39mcondition\u001b[39m.\u001b[39mglasgow_coma_scale\n\u001b[0;32m     81\u001b[0m )\n",
      "File \u001b[1;32me:\\private\\GitHub\\sepsis-check\\SepsisCheck.py:134\u001b[0m, in \u001b[0;36mcompute_score_for_kidneys\u001b[1;34m(creatinine_level, urine_output)\u001b[0m\n\u001b[0;32m    130\u001b[0m \u001b[39m\u001b[39m\u001b[39m\"\"\"\u001b[39;00m\n\u001b[0;32m    131\u001b[0m \u001b[39mComputes score based on Creatinine level (unit is mg/dl) and urine output (unit is mL/d).\u001b[39;00m\n\u001b[0;32m    132\u001b[0m \u001b[39m\"\"\"\u001b[39;00m\n\u001b[0;32m    133\u001b[0m \u001b[39mif\u001b[39;00m urine_output:\n\u001b[1;32m--> 134\u001b[0m     \u001b[39mif\u001b[39;00m urine_output \u001b[39m<\u001b[39;49m \u001b[39m200\u001b[39;49m:\n\u001b[0;32m    135\u001b[0m         \u001b[39mreturn\u001b[39;00m \u001b[39m4\u001b[39m\n\u001b[0;32m    136\u001b[0m     \u001b[39mif\u001b[39;00m urine_output \u001b[39m<\u001b[39m \u001b[39m500\u001b[39m:\n",
      "\u001b[1;31mTypeError\u001b[0m: '<' not supported between instances of 'Urine' and 'int'"
     ]
    }
   ],
   "source": [
    "sofa1 = sc.Condition(70, None, 150, 1.1, sc.Urine(600), 1.1, 15, 450, False) #score 0\n",
    "sofa2 = sc.Condition(50, sc.Catecholamine(\"epinephrine\", 0.5), 100, 3.3, None, 6.1, 7, 150, True) #score 16\n",
    "sofa3 = sc.Condition(50, sc.Catecholamine(\"dobutamine\", 1), 90, 2.3, sc.Urine(199), 4.1, 10, 250, False) #score 14\n",
    "sofa4 = sc.Condition(50, sc.Catecholamine(\"epinephrine\", 0.5), 100, 3.3, sc.Urine(501), 6.1, 7, 150, True) #score 16\n",
    "sofa5 = sc.Condition(50, sc.Catecholamine(\"epinephrine\", 0.5), 100, 3.3, sc.Urine(None), 6.1, 7, 150, True) #score 16, checking if initiating Urine class = None still works\n",
    "\n",
    "print(sc.compute(sofa1), sc.compute(sofa2), sc.compute(sofa3), sc.compute(sofa4))\n",
    "try:\n",
    "    print(sc.compute(sofa5))\n",
    "except:\n",
    "    print(\"TypeError, None does not work as it is no int type\")\n"
   ]
  },
  {
   "cell_type": "code",
   "execution_count": null,
   "metadata": {},
   "outputs": [
    {
     "name": "stdout",
     "output_type": "stream",
     "text": [
      "None\n"
     ]
    }
   ],
   "source": [
    "timesteps = len(IV1)\n",
    "features = ['Sofa','Bilirubin, Total', 'Creatinine', 'Urine Output', 'Platelet Count', 'Blood Cultures', 'PaO2', 'MAP', 'Mech_Vent', 'Catecholamine', 'IV', 'Text', 'GCS']\n",
    "patient_arr = np.empty(shape=(timesteps, len(features)), dtype=object)\n",
    "df = pd.DataFrame(patient_arr, columns=features)\n",
    "df['Bilirubin, Total'] = pd.Series([4.1, 6.1, 6.1, 6.1])\n",
    "df['Creatinine'] = pd.Series([2.3, 3.3, 3.3, 3.3])\n",
    "df['Urine Output'] = pd.Series([sc.Urine(199), None, sc.Urine(501), None])\n",
    "df['Platelet Count'] = pd.Series([90, 100, 100, 100])\n",
    "df['PaO2'] = pd.Series([250, 150, 150, 150])\n",
    "df['MAP'] = pd.Series([90, 100, 100, 100])\n",
    "df['Mech_Vent'] = pd.Series([False, True, True, True])\n",
    "df['Catecholamine'] = pd.Series([sc.Catecholamine(\"dobutamine\", 1), sc.Catecholamine(\"epinephrine\", 0.5), sc.Catecholamine(\"epinephrine\", 0.5), sc.Catecholamine(\"epinephrine\", 0.5)])\n",
    "\n",
    "df['IV'] = IV1\n",
    "df['Blood Cultures'] = pd.Series(blood4)\n",
    "\n",
    "df['GCS'] = pd.Series([10, 7, 7, 7])\n",
    "#df.fillna(value=None, method='ffill')\n",
    "print(df['Sofa'][1])"
   ]
  },
  {
   "cell_type": "code",
   "execution_count": null,
   "metadata": {},
   "outputs": [
    {
     "name": "stdout",
     "output_type": "stream",
     "text": [
      "Catecholamine(name='dobutamine', dosage=1)\n"
     ]
    }
   ],
   "source": [
    "x = df['Catecholamine'][0]\n",
    "print(x)"
   ]
  },
  {
   "cell_type": "code",
   "execution_count": null,
   "metadata": {},
   "outputs": [
    {
     "name": "stdout",
     "output_type": "stream",
     "text": [
      "Condition(mean_arterial_pressure=90.0, catecholamine=Catecholamine(name='dobutamine', dosage=1), platelets_count=90.0, creatinine_level=2.3, urine_output=Urine(dosage=199), bilirubin_level=4.1, glasgow_coma_scale=10.0, partial_pressure_of_oxygen=250.0, is_mechanically_ventilated=False)\n",
      "Condition(mean_arterial_pressure=100.0, catecholamine=Catecholamine(name='epinephrine', dosage=0.5), platelets_count=100.0, creatinine_level=3.3, urine_output=None, bilirubin_level=6.1, glasgow_coma_scale=7.0, partial_pressure_of_oxygen=150.0, is_mechanically_ventilated=True)\n",
      "Condition(mean_arterial_pressure=100.0, catecholamine=Catecholamine(name='epinephrine', dosage=0.5), platelets_count=100.0, creatinine_level=3.3, urine_output=Urine(dosage=501), bilirubin_level=6.1, glasgow_coma_scale=7.0, partial_pressure_of_oxygen=150.0, is_mechanically_ventilated=True)\n"
     ]
    },
    {
     "name": "stderr",
     "output_type": "stream",
     "text": [
      "C:\\Users\\pablo\\AppData\\Local\\Temp\\ipykernel_23292\\956198538.py:4: SettingWithCopyWarning: \n",
      "A value is trying to be set on a copy of a slice from a DataFrame\n",
      "\n",
      "See the caveats in the documentation: https://pandas.pydata.org/pandas-docs/stable/user_guide/indexing.html#returning-a-view-versus-a-copy\n",
      "  df['Sofa'][i] = sc.compute(cond)\n"
     ]
    }
   ],
   "source": [
    "for i in range(0,3):\n",
    "    cond = sc.Condition(df['MAP'][i], df['Catecholamine'][i],df['Platelet Count'][i],df['Creatinine'][i],df['Urine Output'][i], df['Bilirubin, Total'][i],df['GCS'][i],df['PaO2'][i],df['Mech_Vent'][i])\n",
    "    print(cond)\n",
    "    df['Sofa'][i] = sc.compute(cond)\n",
    "   \n"
   ]
  },
  {
   "cell_type": "code",
   "execution_count": null,
   "metadata": {},
   "outputs": [
    {
     "name": "stdout",
     "output_type": "stream",
     "text": [
      "0       14\n",
      "1       16\n",
      "2       16\n",
      "3     None\n",
      "4     None\n",
      "      ... \n",
      "67    None\n",
      "68    None\n",
      "69    None\n",
      "70    None\n",
      "71    None\n",
      "Name: Sofa, Length: 72, dtype: object\n"
     ]
    }
   ],
   "source": [
    "print(df['Sofa'])"
   ]
  },
  {
   "cell_type": "code",
   "execution_count": null,
   "metadata": {},
   "outputs": [
    {
     "name": "stdout",
     "output_type": "stream",
     "text": [
      "t of sofa is at timestep 2, t of IV at 0, t of cultures at 4 -> Septic\n",
      "True\n"
     ]
    }
   ],
   "source": [
    "print(\"t of sofa is at timestep 2, t of IV at 0, t of cultures at 4 -> Septic\")\n",
    "sep = sc.Sepsis(df['Sofa'], df['IV'], df['Blood Cultures'])\n",
    "print(sc.sepsis_check(sep))"
   ]
  },
  {
   "cell_type": "code",
   "execution_count": null,
   "metadata": {},
   "outputs": [
    {
     "name": "stdout",
     "output_type": "stream",
     "text": [
      "False\n",
      "0\n",
      "False\n",
      "False\n"
     ]
    }
   ],
   "source": [
    "# same as above but no blood cultures ever get taken -> no sepsis\n",
    "sep2 = sc.Sepsis(df['Sofa'], df['IV'], blood1)\n",
    "print(sc.blood_check(blood1))\n",
    "print(sc.iv_check(df['IV']))\n",
    "print(sc.get_t_sus(sc.iv_check(df['IV']), sc.blood_check(blood1)))\n",
    "print(sc.sepsis_check(sep2))"
   ]
  }
 ],
 "metadata": {
  "kernelspec": {
   "display_name": "riezler",
   "language": "python",
   "name": "python3"
  },
  "language_info": {
   "codemirror_mode": {
    "name": "ipython",
    "version": 3
   },
   "file_extension": ".py",
   "mimetype": "text/x-python",
   "name": "python",
   "nbconvert_exporter": "python",
   "pygments_lexer": "ipython3",
   "version": "3.9.15"
  },
  "orig_nbformat": 4,
  "vscode": {
   "interpreter": {
    "hash": "adcf29403019cc8afef7c3f69778d761e88d1965778ac01ff67c0278c52e66ba"
   }
  }
 },
 "nbformat": 4,
 "nbformat_minor": 2
}
