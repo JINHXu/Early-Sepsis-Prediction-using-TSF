{
 "cells": [
  {
   "cell_type": "code",
   "execution_count": 7,
   "metadata": {},
   "outputs": [],
   "source": [
    "import pandas as pd"
   ]
  },
  {
   "attachments": {},
   "cell_type": "markdown",
   "metadata": {},
   "source": [
    "### Take a look at the results of sepsis check on patients"
   ]
  },
  {
   "cell_type": "code",
   "execution_count": 8,
   "metadata": {},
   "outputs": [],
   "source": [
    "def filter_data (data, str_column, value):\n",
    "    \"\"\"given data, string of column and string of value, return masked data that meets the requirements\"\"\"\n",
    "    m = data[str_column] == value\n",
    "    t = data[m]\n",
    "    return t"
   ]
  },
  {
   "cell_type": "code",
   "execution_count": 9,
   "metadata": {},
   "outputs": [],
   "source": [
    "def convert_result_to_df(filename):\n",
    "    result_dict = []\n",
    "    with open(filename, 'r') as f:\n",
    "        for i, line in enumerate(f):\n",
    "            line_list = line.split()\n",
    "            line_list = [s.strip(',') for s in line_list]\n",
    "            line_list = [s.replace(',', '') for s in line_list]\n",
    "            result_dict.append(dict({'Subject ID': line_list[2], \n",
    "                                        'Hadm_ID': line_list[4],\n",
    "                                        'ts_ind': line_list[6],\n",
    "                                        'Sepsis': line_list[8], \n",
    "                                        't_sofa': line_list[10], \n",
    "                                        't_cultures': line_list[12], \n",
    "                                        't_IV': line_list[14], \n",
    "                                        't_sus': line_list[16]}))\n",
    "    df = pd.DataFrame.from_records(result_dict)\n",
    "\n",
    "    return df"
   ]
  },
  {
   "cell_type": "code",
   "execution_count": 10,
   "metadata": {},
   "outputs": [],
   "source": [
    "path = \"./data/patient/mimic_iii_preprocessed_finetuning2.pkl\"\n",
    "output = \"results.txt\"\n",
    "data = pd.read_pickle(path)"
   ]
  },
  {
   "attachments": {},
   "cell_type": "markdown",
   "metadata": {},
   "source": [
    "### Accuracy of predicted and actual septic patients: 12 - 20 % depending on ffill\n",
    "However, more than half of the actual septic patients do not contain features for Blood Cultures or Antibiotics, thus yielding a negative result by default."
   ]
  },
  {
   "cell_type": "code",
   "execution_count": 11,
   "metadata": {},
   "outputs": [
    {
     "name": "stdout",
     "output_type": "stream",
     "text": [
      "Accuracy of ffill on Antibiotics: 0.20366868381240544\n",
      "Accuracy without ffill on Antibiotics: 0.12708018154311648\n",
      "2830 2830\n"
     ]
    }
   ],
   "source": [
    "df = convert_result_to_df('results/withts_ind/results_ffill.txt')\n",
    "m = df[\"Sepsis\"] == 'True'\n",
    "pos_hadm_IDs = list(map(int, df[m][\"ts_ind\"]))\n",
    "df2 = convert_result_to_df(\"results/withts_ind/results_no_ffill.txt\") ## all ts_indexes with sepsis True\n",
    "m2 = df2[\"Sepsis\"] == \"True\"\n",
    "pos_hadm_IDs2 = list(map(int, df2[m2][\"ts_ind\"]))\n",
    "h = data[1][\"in_hospital_sepsis\"] == True\n",
    "sepsis_pos = list(map(int, data[1][h][\"ts_ind\"])) # all ts_indexes with sepsis True in full data\n",
    "print(\"Accuracy of ffill on Antibiotics:\", len(set(pos_hadm_IDs).intersection(sepsis_pos)) / len(sepsis_pos))\n",
    "print(\"Accuracy without ffill on Antibiotics:\", len(set(pos_hadm_IDs2).intersection(sepsis_pos)) / len(sepsis_pos))\n",
    "\n",
    "\n",
    "dif1 = set(sepsis_pos).difference(pos_hadm_IDs) # hadm_ids that are in the positive list of the full data set but not detected by the sepsis check with ffill on antibiotics\n",
    "dif2 = set(sepsis_pos).difference(pos_hadm_IDs2)\n",
    "l = list(dif1)\n",
    "\n",
    "#store variables of the false negatives in list and check if Antibiotics and Blood Cultures are in -> i guess those are the most common reasons for a negative result\n",
    "are_in = []\n",
    "arent_in_indexes = []\n",
    "for i, x in enumerate(l):\n",
    "    mask = data[0][\"ts_ind\"] == l[i]\n",
    "    d = data[0][mask]\n",
    "    l_of_variables = d[\"variable\"].unique()\n",
    "    if \"Blood Culture\" and \"Antibiotics\" in l_of_variables:\n",
    "        are_in.append(\"True\")\n",
    "    else:\n",
    "        are_in.append(\"False\")\n",
    "        arent_in_indexes.append(x)\n",
    "\n",
    "print(are_in.count(\"False\"), len(arent_in_indexes))"
   ]
  },
  {
   "attachments": {},
   "cell_type": "markdown",
   "metadata": {},
   "source": [
    "### Adjusted accuracy with impossible cases removed: ~43 %\n",
    "#### -> Get septic patients that have all relevant features but still where predicted as negative\n"
   ]
  },
  {
   "cell_type": "code",
   "execution_count": 12,
   "metadata": {},
   "outputs": [
    {
     "name": "stdout",
     "output_type": "stream",
     "text": [
      "2830 Septic patients that do not have relevant features: 0.5351739788199698\n",
      "Accuracy with impossible cases removed (no Blood Cultures or Antibiotics features): 0.43816110659072416\n",
      "Number of false negatives, even though all features were present: 1381\n"
     ]
    }
   ],
   "source": [
    "have_all_features = [x for x in sepsis_pos if x not in arent_in_indexes]\n",
    "print(len(arent_in_indexes), \"Septic patients that do not have relevant features:\", (len(arent_in_indexes) / len(sepsis_pos)))\n",
    "print(\"Accuracy with impossible cases removed (no Blood Cultures or Antibiotics features):\", len(set(pos_hadm_IDs).intersection(have_all_features)) / len(have_all_features))\n",
    "false_negatives = set(have_all_features).difference(pos_hadm_IDs)\n",
    "print(\"Number of false negatives, even though all features were present:\", len(false_negatives))"
   ]
  },
  {
   "attachments": {},
   "cell_type": "markdown",
   "metadata": {},
   "source": [
    "### TODO: analyze those patients and try to find the reasons for wrong predictions"
   ]
  }
 ],
 "metadata": {
  "kernelspec": {
   "display_name": "base3.7",
   "language": "python",
   "name": "python3"
  },
  "language_info": {
   "codemirror_mode": {
    "name": "ipython",
    "version": 3
   },
   "file_extension": ".py",
   "mimetype": "text/x-python",
   "name": "python",
   "nbconvert_exporter": "python",
   "pygments_lexer": "ipython3",
   "version": "3.7.11"
  },
  "orig_nbformat": 4,
  "vscode": {
   "interpreter": {
    "hash": "7db83ea46a682b9a03e21d236f689483c2914d8be6b8c148a242a6c4df43f3c1"
   }
  }
 },
 "nbformat": 4,
 "nbformat_minor": 2
}
